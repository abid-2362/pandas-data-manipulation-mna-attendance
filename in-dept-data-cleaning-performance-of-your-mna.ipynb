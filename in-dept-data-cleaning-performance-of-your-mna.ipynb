{
 "cells": [
  {
   "cell_type": "markdown",
   "id": "dda0a7d3",
   "metadata": {
    "papermill": {
     "duration": 0.013381,
     "end_time": "2022-07-16T06:49:21.590206",
     "exception": false,
     "start_time": "2022-07-16T06:49:21.576825",
     "status": "completed"
    },
    "tags": [],
    "pycharm": {
     "name": "#%% md\n"
    }
   },
   "source": [
    "# <div style=\"font-family: Trebuchet MS; background-color: #000099; color: #FFFFFF; padding: 12px; line-height: 1;\">Notebook Structure </div>\n",
    "\n",
    "0. **Analysis Summary**\n",
    "1. **Std Lib Imports**\n",
    "2. **Data Import**- Covers basic data import and concat operation\n",
    "3. **Building understanding of data**- Most of the heavy lifting on work here\n",
    "    * Understanding: Knowing what's in the data before cleaning\n",
    "    * Data cleaning: Preparing cleaned data (df_) where each row represent a row for each session or joint session of NA\n",
    "4. **Secondary Import**- Imported data from wikipedia where we've merged given constituencies name with their city & areas for better EDA\n",
    "5. **Exploration**- EDA of final data (df_final) and comments over relationships\n"
   ]
  },
  {
   "cell_type": "markdown",
   "id": "dec736a3",
   "metadata": {
    "papermill": {
     "duration": 0.011644,
     "end_time": "2022-07-16T06:49:21.614002",
     "exception": false,
     "start_time": "2022-07-16T06:49:21.602358",
     "status": "completed"
    },
    "tags": [],
    "pycharm": {
     "name": "#%% md\n"
    }
   },
   "source": [
    "# <div style=\"font-family: Trebuchet MS; background-color: #000099; color: #FFFFFF; padding: 12px; line-height: 1;\">Analysis Summary </div>\n",
    "\n",
    "**Prompt**: The dataset used is posted with question attached, \"Find The Performance of Your MNA\"\n",
    "\n",
    "Hence, we've plotted the presense of MNA of respective local 'areas' by bar plot at the end this notebook. For example, if you were live in Karachi Central I, then MNA has attended most session across all constituencies in Sindh (Perhaps because Karachi Central I is perhaps one of the largest and most dense area in Sindh- maybe even in Pakistan)\n",
    "\n",
    "**Results**: Here's how the top & worse performance constituencies have been based on their presence in NA sessions:\n",
    "\n",
    "Sindh-\n",
    "    Best: Karachi & Tharkparker Areas\n",
    "    Worse: Matiari & Ghotki\n",
    "\n",
    "Punjab-\n",
    "    Best: Lahore-III, Muzzaffargarh IV, Gujranwala\n",
    "    Worse: Faisalabad-I, Mianwali, Layyah, Gujrat\n",
    "\n",
    "Balochistant\n",
    "    Best: Mastung, Jafarabad\n",
    "    Worse: Kech, Khuzdar\n",
    "\n",
    "KPK\n",
    "    Best: Chirtal, Manserah\n",
    "    Worse: Mardan, South Waziristan, Islamabad III, Peshawar I\n",
    "\n",
    "Simple google search of constituency name can tell you what area it covers:\n",
    "A rather detailed view is shared and attached here: https://en.wikipedia.org/wiki/List_of_constituencies_of_Pakistan\n",
    "\n",
    "**Caveats**\n",
    "I've not viewed data in aggregate of multiple session sittings & dates. Perhaps, there could some value in going down to that depth to get some more insights. For future contributors, this could be a guideline."
   ]
  },
  {
   "cell_type": "markdown",
   "id": "d514010e",
   "metadata": {
    "papermill": {
     "duration": 0.011724,
     "end_time": "2022-07-16T06:49:21.637703",
     "exception": false,
     "start_time": "2022-07-16T06:49:21.625979",
     "status": "completed"
    },
    "tags": [],
    "pycharm": {
     "name": "#%% md\n"
    }
   },
   "source": [
    "# <div style=\"font-family: Trebuchet MS; background-color: #000099; color: #FFFFFF; padding: 12px; line-height: 1;\">Std Lib Imports </div>"
   ]
  },
  {
   "cell_type": "code",
   "execution_count": 14,
   "id": "946536b4",
   "metadata": {
    "execution": {
     "iopub.execute_input": "2022-07-16T06:49:21.664407Z",
     "iopub.status.busy": "2022-07-16T06:49:21.663995Z",
     "iopub.status.idle": "2022-07-16T06:49:24.138862Z",
     "shell.execute_reply": "2022-07-16T06:49:24.137622Z"
    },
    "jupyter": {
     "source_hidden": true
    },
    "papermill": {
     "duration": 2.492492,
     "end_time": "2022-07-16T06:49:24.142282",
     "exception": false,
     "start_time": "2022-07-16T06:49:21.649790",
     "status": "completed"
    },
    "tags": [],
    "pycharm": {
     "name": "#%%\n"
    }
   },
   "outputs": [],
   "source": [
    "import numpy as np\n",
    "import pandas as pd\n",
    "pd.set_option('display.max_rows', 5000)\n",
    "import re\n",
    "import matplotlib.pyplot as plt\n",
    "%matplotlib inline\n",
    "import seaborn as sns\n",
    "import plotly.express as px\n",
    "\n",
    "import os\n",
    "for dirname, _, filenames in os.walk('/kaggle/input'):\n",
    "    for filename in filenames:\n",
    "        print(os.path.join(dirname, filename))\n"
   ]
  },
  {
   "cell_type": "code",
   "execution_count": 15,
   "id": "bf09defc",
   "metadata": {
    "execution": {
     "iopub.execute_input": "2022-07-16T06:49:24.171243Z",
     "iopub.status.busy": "2022-07-16T06:49:24.170317Z",
     "iopub.status.idle": "2022-07-16T06:49:37.275950Z",
     "shell.execute_reply": "2022-07-16T06:49:37.274405Z"
    },
    "jupyter": {
     "source_hidden": true
    },
    "papermill": {
     "duration": 13.123187,
     "end_time": "2022-07-16T06:49:37.278843",
     "exception": false,
     "start_time": "2022-07-16T06:49:24.155656",
     "status": "completed"
    },
    "tags": [],
    "pycharm": {
     "name": "#%%\n"
    }
   },
   "outputs": [
    {
     "name": "stdout",
     "output_type": "stream",
     "text": [
      "Requirement already satisfied: xlrd in c:\\users\\hp\\anaconda3\\lib\\site-packages (2.0.1)\n"
     ]
    }
   ],
   "source": [
    "!pip install xlrd"
   ]
  },
  {
   "cell_type": "code",
   "execution_count": 16,
   "id": "b9c2f912",
   "metadata": {
    "execution": {
     "iopub.execute_input": "2022-07-16T06:49:37.306299Z",
     "iopub.status.busy": "2022-07-16T06:49:37.305858Z",
     "iopub.status.idle": "2022-07-16T06:49:49.114829Z",
     "shell.execute_reply": "2022-07-16T06:49:49.113267Z"
    },
    "jupyter": {
     "source_hidden": true
    },
    "papermill": {
     "duration": 11.825547,
     "end_time": "2022-07-16T06:49:49.117229",
     "exception": false,
     "start_time": "2022-07-16T06:49:37.291682",
     "status": "completed"
    },
    "tags": [],
    "pycharm": {
     "name": "#%%\n"
    }
   },
   "outputs": [
    {
     "name": "stdout",
     "output_type": "stream",
     "text": [
      "Requirement already satisfied: openpyxl in c:\\users\\hp\\anaconda3\\lib\\site-packages (3.0.9)\n",
      "Requirement already satisfied: et-xmlfile in c:\\users\\hp\\anaconda3\\lib\\site-packages (from openpyxl) (1.1.0)\n"
     ]
    }
   ],
   "source": [
    "!pip install openpyxl"
   ]
  },
  {
   "cell_type": "markdown",
   "id": "795f1626",
   "metadata": {
    "papermill": {
     "duration": 0.012885,
     "end_time": "2022-07-16T06:49:49.143576",
     "exception": false,
     "start_time": "2022-07-16T06:49:49.130691",
     "status": "completed"
    },
    "tags": [],
    "pycharm": {
     "name": "#%% md\n"
    }
   },
   "source": [
    "**Methods** Self-defined"
   ]
  },
  {
   "cell_type": "code",
   "execution_count": 17,
   "id": "35fdc73b",
   "metadata": {
    "execution": {
     "iopub.execute_input": "2022-07-16T06:49:49.171880Z",
     "iopub.status.busy": "2022-07-16T06:49:49.171445Z",
     "iopub.status.idle": "2022-07-16T06:49:49.180004Z",
     "shell.execute_reply": "2022-07-16T06:49:49.178808Z"
    },
    "jupyter": {
     "source_hidden": true
    },
    "papermill": {
     "duration": 0.025447,
     "end_time": "2022-07-16T06:49:49.182153",
     "exception": false,
     "start_time": "2022-07-16T06:49:49.156706",
     "status": "completed"
    },
    "tags": [],
    "pycharm": {
     "name": "#%%\n"
    }
   },
   "outputs": [],
   "source": [
    "#Custom Method used\n",
    "def session(col):\n",
    "    return col[0]\n",
    "\n",
    "def col_details(df, col_index):\n",
    "\n",
    "    total= len(df[df.columns[col_index]])\n",
    "    na_count= df[df.columns[col_index]].isna().sum()\n",
    "    share_na_count= round(float(na_count/total)*100,2)\n",
    "\n",
    "    print('Column:  ', df.columns[col_index])\n",
    "    print('\\nTotal Values', total, ' - NA count ', na_count, '- Share of NA ', share_na_count)\n",
    "    print('\\nValue_counts:')\n",
    "    print(df[df.columns[col_index]].value_counts())"
   ]
  },
  {
   "cell_type": "markdown",
   "id": "287d544e",
   "metadata": {
    "papermill": {
     "duration": 0.013091,
     "end_time": "2022-07-16T06:49:49.208600",
     "exception": false,
     "start_time": "2022-07-16T06:49:49.195509",
     "status": "completed"
    },
    "tags": [],
    "pycharm": {
     "name": "#%% md\n"
    }
   },
   "source": [
    "# <div style=\"font-family: Trebuchet MS; background-color: #000099; color: #FFFFFF; padding: 12px; line-height: 1;\">Data Import </div>\n",
    "1. Column views\n",
    "2. Concat df\n",
    "3. Sum of null values"
   ]
  },
  {
   "cell_type": "code",
   "execution_count": 18,
   "id": "9b203004",
   "metadata": {
    "execution": {
     "iopub.execute_input": "2022-07-16T06:49:49.238067Z",
     "iopub.status.busy": "2022-07-16T06:49:49.237690Z",
     "iopub.status.idle": "2022-07-16T06:49:52.979616Z",
     "shell.execute_reply": "2022-07-16T06:49:52.978087Z"
    },
    "papermill": {
     "duration": 3.760135,
     "end_time": "2022-07-16T06:49:52.982432",
     "exception": false,
     "start_time": "2022-07-16T06:49:49.222297",
     "status": "completed"
    },
    "tags": [],
    "pycharm": {
     "name": "#%%\n"
    }
   },
   "outputs": [
    {
     "name": "stdout",
     "output_type": "stream",
     "text": [
      "df_1 columns:  Index(['meta', 'constituency', 'name', 'presense'], dtype='object')\n",
      "\n",
      "df_2 columns:  Index(['meta', 'constituency', 'name', 'presense'], dtype='object')\n",
      "\n",
      "len df_1 37247  len df_2 38992\n",
      "********info**********:\n",
      "<class 'pandas.core.frame.DataFrame'>\n",
      "RangeIndex: 76239 entries, 0 to 76238\n",
      "Data columns (total 4 columns):\n",
      " #   Column        Non-Null Count  Dtype \n",
      "---  ------        --------------  ----- \n",
      " 0   meta          75618 non-null  object\n",
      " 1   constituency  74888 non-null  object\n",
      " 2   name          75844 non-null  object\n",
      " 3   presense      74560 non-null  object\n",
      "dtypes: object(4)\n",
      "memory usage: 2.3+ MB\n",
      "None\n",
      "\n",
      " **********isNa***********: \n",
      "meta             621\n",
      "constituency    1351\n",
      "name             395\n",
      "presense        1679\n",
      "dtype: int64\n"
     ]
    }
   ],
   "source": [
    "root='data/Attendence of Members - Sessions 21 - 43.xls'\n",
    "\n",
    "df_1= pd.read_excel(root, sheet_name= 'Session 1 to 20')\n",
    "df_2= pd.read_excel(root,sheet_name= 'Attendence of Members - Session')\n",
    "\n",
    "df_1.columns= ['meta', 'constituency','name','presense']\n",
    "df_2.columns= ['meta', 'constituency','name','presense']\n",
    "\n",
    "print('df_1 columns: ', df_1.columns)\n",
    "print('\\ndf_2 columns: ', df_2.columns)\n",
    "print('\\nlen df_1', len(df_1), ' len df_2', len(df_2))\n",
    "\n",
    "df= df_1.append(df_2)\n",
    "\n",
    "df.reset_index(inplace=True,drop=True)\n",
    "\n",
    "\n",
    "cols=df.columns\n",
    "print('********info**********:')\n",
    "print(df.info())\n",
    "print('\\n **********isNa***********: ')\n",
    "print(df.isna().sum())"
   ]
  },
  {
   "cell_type": "markdown",
   "id": "6c6ec1c7",
   "metadata": {
    "papermill": {
     "duration": 0.014207,
     "end_time": "2022-07-16T06:49:53.011238",
     "exception": false,
     "start_time": "2022-07-16T06:49:52.997031",
     "status": "completed"
    },
    "tags": [],
    "pycharm": {
     "name": "#%% md\n"
    }
   },
   "source": [
    "# <div style=\"font-family: Trebuchet MS; background-color: #000099; color: #FFFFFF; padding: 12px; line-height: 1;\">Bulding understanding of data </div>\n",
    "\n",
    "Imported as two dataframes (df_1, df_2), each df has a sub-composition if explored in below code:\n",
    "1. NA has series of \"Joint Sessions\" and simple \"Sessions\": The attendence is recorded against each session of each type. Hence, it's critical two clean the data first with this view **before making any drops of null values**\n",
    "2. Upon exploring the dataset, one can observe pattern of colums [Sl. no., constituency, Name of Member, Status] being recurrent columns for each session\n",
    "3. Each constituency refers to particular area; I'm adding a secondary data set to merge for locations of constituencies for a better EDA (Explore more here: https://en.wikipedia.org/wiki/List_of_constituencies_of_Pakistan)"
   ]
  },
  {
   "cell_type": "code",
   "execution_count": 19,
   "id": "d7d9c11d",
   "metadata": {
    "execution": {
     "iopub.execute_input": "2022-07-16T06:49:53.041680Z",
     "iopub.status.busy": "2022-07-16T06:49:53.040447Z",
     "iopub.status.idle": "2022-07-16T06:49:53.089191Z",
     "shell.execute_reply": "2022-07-16T06:49:53.087888Z"
    },
    "papermill": {
     "duration": 0.068918,
     "end_time": "2022-07-16T06:49:53.094167",
     "exception": false,
     "start_time": "2022-07-16T06:49:53.025249",
     "status": "completed"
    },
    "tags": [],
    "pycharm": {
     "name": "#%%\n"
    }
   },
   "outputs": [
    {
     "data": {
      "text/plain": "                                                    meta   constituency  \\\n37040                                                255  Reserved Seat   \n37041                                                256  Reserved Seat   \n37042                                                257  Reserved Seat   \n37043                                                258  Reserved Seat   \n37044                                                259  Reserved Seat   \n37045                                                NaN            NaN   \n37046                                                NaN            NaN   \n37047                                       20th Session            NaN   \n37048  The following Members National Assembly of Pak...            NaN   \n37049                                            Sl. No.   Constituency   \n37050                                                  1           NA-1   \n37051                                                  2           NA-2   \n37052                                                  3           NA-3   \n37053                                                  4           NA-4   \n37054                                                  5           NA-5   \n37055                                                  6           NA-6   \n37056                                                  7           NA-7   \n37057                                                  8           NA-8   \n37058                                                  9           NA-9   \n37059                                                 10          NA-10   \n37060                                                 11          NA-11   \n37061                                                 12          NA-12   \n37062                                                 13          NA-13   \n37063                                                 14          NA-14   \n37064                                                 15          NA-15   \n37065                                                 16          NA-16   \n37066                                                 17          NA-17   \n37067                                                 18          NA-18   \n37068                                                 19          NA-19   \n37069                                                 20          NA-22   \n37070                                                 21          NA-23   \n37071                                                 22          NA-24   \n37072                                                 23          NA-26   \n37073                                                 24          NA-27   \n37074                                                 25          NA-29   \n37075                                                 26          NA-30   \n37076                                                 27          NA-31   \n37077                                                 28          NA-34   \n37078                                                 29          NA-36   \n37079                                                 30          NA-37   \n37080                                                 31          NA-40   \n37081                                                 32          NA-41   \n37082                                                 33          NA-44   \n37083                                                 34          NA-45   \n37084                                                 35          NA-46   \n37085                                                 36          NA-48   \n37086                                                 37          NA-49   \n37087                                                 38          NA-50   \n37088                                                 39          NA-52   \n37089                                                 40          NA-53   \n37090                                                 41          NA-56   \n37091                                                 42          NA-57   \n37092                                                 43          NA-58   \n37093                                                 44          NA-59   \n37094                                                 45          NA-60   \n37095                                                 46          NA-61   \n37096                                                 47          NA-64   \n37097                                                 48          NA-70   \n37098                                                 49          NA-72   \n37099                                                 50          NA-74   \n37100                                                 51          NA-75   \n37101                                                 52          NA-76   \n37102                                                 53          NA-78   \n37103                                                 54          NA-79   \n37104                                                 55          NA-80   \n37105                                                 56          NA-82   \n37106                                                 57          NA-83   \n37107                                                 58          NA-84   \n37108                                                 59          NA-85   \n37109                                                 60          NA-86   \n37110                                                 61          NA-88   \n37111                                                 62          NA-89   \n37112                                                 63          NA-91   \n37113                                                 64          NA-93   \n37114                                                 65          NA-94   \n37115                                                 66          NA-96   \n37116                                                 67          NA-98   \n37117                                                 68         NA-100   \n37118                                                 69         NA-102   \n37119                                                 70         NA-106   \n37120                                                 71         NA-107   \n37121                                                 72         NA-108   \n37122                                                 73         NA-109   \n37123                                                 74         NA-112   \n37124                                                 75         NA-116   \n37125                                                 76         NA-122   \n37126                                                 77         NA-124   \n37127                                                 78         NA-125   \n37128                                                 79         NA-130   \n37129                                                 80         NA-131   \n37130                                                 81         NA-134   \n37131                                                 82         NA-135   \n37132                                                 83         NA-137   \n37133                                                 84         NA-143   \n37134                                                 85         NA-146   \n37135                                                 86         NA-149   \n37136                                                 87         NA-150   \n37137                                                 88         NA-151   \n37138                                                 89         NA-157   \n37139                                                 90         NA-158   \n37140                                                 91         NA-159   \n37141                                                 92         NA-160   \n37142                                                 93         NA-161   \n37143                                                 94         NA-162   \n37144                                                 95         NA-163   \n37145                                                 96         NA-164   \n37146                                                 97         NA-169   \n37147                                                 98         NA-173   \n37148                                                 99         NA-175   \n37149                                                100         NA-179   \n37150                                                101         NA-182   \n37151                                                102         NA-184   \n37152                                                103         NA-185   \n37153                                                104         NA-190   \n37154                                                105         NA-191   \n37155                                                106         NA-194   \n37156                                                107         NA-195   \n37157                                                108         NA-198   \n37158                                                109         NA-201   \n37159                                                110         NA-202   \n37160                                                111         NA-204   \n37161                                                112         NA-208   \n37162                                                113         NA-210   \n37163                                                114         NA-212   \n37164                                                115         NA-216   \n37165                                                116         NA-218   \n37166                                                117         NA-221   \n37167                                                118         NA-225   \n37168                                                119         NA-226   \n37169                                                120         NA-227   \n37170                                                121         NA-228   \n37171                                                122         NA-229   \n37172                                                123         NA-232   \n37173                                                124         NA-234   \n37174                                                125         NA-236   \n37175                                                126         NA-237   \n37176                                                127         NA-238   \n37177                                                128         NA-240   \n37178                                                129         NA-241   \n37179                                                130         NA-242   \n37180                                                131         NA-246   \n37181                                                132         NA-248   \n37182                                                133         NA-251   \n37183                                                134         NA-252   \n37184                                                135         NA-253   \n37185                                                136         NA-259   \n37186                                                137         NA-260   \n37187                                                138         NA-261   \n37188                                                139         NA-264   \n37189                                                140         NA-265   \n37190                                                141         NA-266   \n37191                                                142         NA-267   \n37192                                                143         NA-268   \n37193                                                144         NA-269   \n37194                                                145         NA-270   \n37195                                                146  Reserved Seat   \n37196                                                147  Reserved Seat   \n37197                                                148  Reserved Seat   \n37198                                                149  Reserved Seat   \n37199                                                150  Reserved Seat   \n37200                                                151  Reserved Seat   \n37201                                                152  Reserved Seat   \n37202                                                153  Reserved Seat   \n37203                                                154  Reserved Seat   \n37204                                                155  Reserved Seat   \n37205                                                156  Reserved Seat   \n37206                                                157  Reserved Seat   \n37207                                                158  Reserved Seat   \n37208                                                159  Reserved Seat   \n37209                                                160  Reserved Seat   \n37210                                                161  Reserved Seat   \n37211                                                162  Reserved Seat   \n37212                                                163  Reserved Seat   \n37213                                                164  Reserved Seat   \n37214                                                165  Reserved Seat   \n37215                                                166  Reserved Seat   \n37216                                                167  Reserved Seat   \n37217                                                168  Reserved Seat   \n37218                                                169  Reserved Seat   \n37219                                                170  Reserved Seat   \n37220                                                171  Reserved Seat   \n37221                                                172  Reserved Seat   \n37222                                                173  Reserved Seat   \n37223                                                174  Reserved Seat   \n37224                                                175  Reserved Seat   \n37225                                                176  Reserved Seat   \n37226                                                177  Reserved Seat   \n37227                                                178  Reserved Seat   \n37228                                                179  Reserved Seat   \n37229                                                180  Reserved Seat   \n37230                                                181  Reserved Seat   \n37231                                                182  Reserved Seat   \n37232                                                183  Reserved Seat   \n37233                                                184  Reserved Seat   \n37234                                                185  Reserved Seat   \n37235                                                186  Reserved Seat   \n37236                                                187  Reserved Seat   \n37237                                                188  Reserved Seat   \n37238                                                189  Reserved Seat   \n37239                                                190  Reserved Seat   \n37240                                                191  Reserved Seat   \n37241                                                192  Reserved Seat   \n37242                                                193  Reserved Seat   \n37243                                                194  Reserved Seat   \n37244                                                195  Reserved Seat   \n37245                                                196  Reserved Seat   \n37246                                                197  Reserved Seat   \n37247                                                NaN            NaN   \n37248                                       21st Session            NaN   \n37249  The following Members National Assembly of Pak...            NaN   \n37250                                            Sl. No.   Constituency   \n37251                                                  1           NA-1   \n37252                                                  2           NA-3   \n37253                                                  3           NA-4   \n37254                                                  4           NA-5   \n\n                                                   name presense  \n37040                         Mr. Ramesh Kumar Vankwani        P  \n37041                                Mr. Jamshed Thomas        P  \n37042                                       Dr. Darshan        P  \n37043                          Mr. Kesoo Mal Kheeal Das        P  \n37044                            Mr. Naveed Aamir Jeeva        P  \n37045                     NATIONAL ASSEMBLY SECRETARIAT      NaN  \n37046                                   (Notice Office)      NaN  \n37047  4th Sitting held on Friday, the 13th March, 2020      NaN  \n37048                                               NaN      NaN  \n37049                                    Name of Member   Status  \n37050                      Moulana Abdul Akbar Chitrali        P  \n37051                               Dr. Haider Ali Khan        P  \n37052                                 Mr. Saleem Rehman        P  \n37053                                   Mr. Murad Saeed        P  \n37054                            Sahibzada Sibghatullah        P  \n37055                                  Mr. Mehboob Shah        P  \n37056                          Mr. Muhammad Bashir Khan        P  \n37057                                  Mr. Junaid Akbar        P  \n37058                               Mr. Sher Akbar Khan        P  \n37059                                Mr. Ibadullah Khan        P  \n37060                                   Mr. Afreen Khan        P  \n37061                        Prince Muhammad Nawaz Alai        P  \n37062                                Mr. Saleh Muhammad        P  \n37063                               Mr. Muhammad Sajjad        P  \n37064                          Mr. Murtaza Javed Abbasi        P  \n37065                               Mr. Ali Khan Jadoon        P  \n37066                                Mr. Omar Ayub Khan        P  \n37067                                   Mr. Asad Qaiser        P  \n37068                          Engr. Usman Khan Tarakai        P  \n37069                             Mr. Ali Muhammad Khan        P  \n37070                                   Malik Anwar Taj        P  \n37071                           Mr. Fazal Muhammad Khan        P  \n37072                                 Mr. Imran Khattak        P  \n37073                                Mr. Noor Alam Khan        P  \n37074                           Mr. Nasir Khan Musa Zai        P  \n37075                                Mr. Sher Ali Arbab        P  \n37076                                   Mr. Shaukat Ali        P  \n37077                                  Mr. Shahid Ahmad        P  \n37078                                Mr. Muhammad Anwar        P  \n37079                                  Mr. Asad Mehmood        P  \n37080                                  Mr. Gul Dad khan        P  \n37081                                Mr. Gul Zafar Khan        P  \n37082                           Mr. Mohammad Iqbal Khan        P  \n37083                            Mr. Munir Khan Orakzai        P  \n37084                            Mr. Sajid Hussain Turi        P  \n37085                                  Mr. Mohsin Dawar        P  \n37086                         Mr. Muhammad Jamal-ud-Din        P  \n37087                                     Mr. Ali Wazir        P  \n37088                        Raja Khurram Shahzad Nawaz        P  \n37089                                Mr. Ali Nawaz Awan        P  \n37090                                 Malik Sohail Khan        P  \n37091                              Mr. Sadaqat Ali Khan        P  \n37092                               Raja Pervaiz Ashraf        P  \n37093                            Mr. Ghulam Sarwar Khan        P  \n37094                            Sheikh Rashid Shafique        P  \n37095                          Mr. Aamir Mehmood Kiyani        P  \n37096                   Sardar Zulfiqar Ali Khan Dullah        P  \n37097                               Syed Faiz ul Hassan        P  \n37098                               Ch. Armghan Subhani        P  \n37099                                     Mr. Ali Zahid        P  \n37100                           Syed Iftikhar Ul Hassan        P  \n37101                            Rana Shamim Ahmed Khan        P  \n37102                         Mr. Ahsan Iqbal Chaudhary        P  \n37103                            Mr. Nisar Ahmed Cheema        P  \n37104                           Ch. Mehmood Bashir Virk        P  \n37105                                 Mr. Usman Ibrahim        P  \n37106                          Ch. Zulfiqar Ali Bhinder        P  \n37107                            Mr. Azhar Qayyum Nahra        P  \n37108                       Haji Imtiaz Ahmed Choudhary        P  \n37109                             Mr. Nasir Iqbal Bosal        P  \n37110                           Mr. Mukhtar Ahmad Malik        P  \n37111                           Mr. Mohsin Nawaz Ranjha        P  \n37112                           Ch. Aamir Sultan Cheema        P  \n37113                               Mr. Umar Aslam Khan        P  \n37114                 Malik Muhammad Ehsan Ullah Tiwana        P  \n37115                                Mr. Amjad Ali Khan        P  \n37116                   Dr. Muhammad Afzal Khan Dhandla        P  \n37117                           Mr. Qaiser Ahmed Sheikh        P  \n37118                                    Mr. Nawab Sher        P  \n37119                              Rana Sana Ullah Khan        P  \n37120                               Mr. Khurram Shahzad        P  \n37121                                 Mr. Farrukh Habib        P  \n37122                                    Mr. Faiz Ullah        P  \n37123                Mr. Muhammad Junaid Anwar Chaudhry        P  \n37124                         Mr. Muhammad Ameer Sultan        P  \n37125                       Sardar Muhammad Irfan Dogar        P  \n37126                          Mr. Shahid Khaqan Abbasi        P  \n37127                              Mr. Waheed Alam Khan        P  \n37128                               Mr. Shafqat Mahmood        P  \n37129                              Khawaja Saad Rafique        P  \n37130                               Rana Mubashir Iqbal        P  \n37131                         Malik Karamat Ali Khokhar        P  \n37132                                   Mr. Saad Waseem        P  \n37133                           Rao Muhammad Ajmal Khan        P  \n37134                           Rana Iradat Sharif Khan        P  \n37135                        Rai Muhammad Murtaza Iqbal        P  \n37136                                  Syed Fakhar Imam        P  \n37137                            Mr. Muhammad Khan Daha        P  \n37138                     Makhdoom Zain Hussain Qureshi        P  \n37139                         Mr. Muhammad Ibrahim Khan        P  \n37140                          Rana Muhammad Qasim Noon        P  \n37141                            Mr. Abdul Rehman Kanju        P  \n37142                              Mian Muhammad Shafiq        P  \n37143                             Choudhary Faqir Ahmad        P  \n37144                                   Mr. Sajid Mehdi        P  \n37145                                   Mr. Tahir Iqbal        P  \n37146                         Mr. Noor ul Hassan Tanvir        P  \n37147                         Mian Najeeb ud Din Awaisi        P  \n37148                                 Syed Mobeen Ahmed        P  \n37149                           Ch. Javed Iqbal Waraich        P  \n37150                           Mahar Irshad Ahmad Khan        P  \n37151               Nawabzada Iftakhar Ahmed Khan Babar        P  \n37152                             Makhdom Basit Bokhari        P  \n37153              Mr. Muhammad Amjad Farooq Khan Khosa        P  \n37154                                    Ms. Zartaj Gul        P  \n37155                     Sardar Nasrullah Khan Dreshak        P  \n37156                   Sardar Riaz Mehmood Khan Mazari        P  \n37157                            Mr. Abid Hussain Bhayo        P  \n37158                        Mr. Khursheed Ahmed Junejo        P  \n37159                          Mr. Aftab Shahban Mirani        P  \n37160                        Mr. Khalid Ahmed Khan Lund        P  \n37161                                   Dr. Nafisa Shah        P  \n37162                       Syed Javed Ali Shah Jillani        P  \n37163                            Mr. Zulfiqar Ali Behan        P  \n37164                                  Ms. Shazia Marri        P  \n37165                                Mr. Ali Nawaz Shah        P  \n37166                    Pir Noor Muhammad Shah Jillani        P  \n37167                                Syed Hussain Tariq        P  \n37168                    Engr. Sabir Hussain Kaim Khani        P  \n37169                                    Mr. Salahuddin        P  \n37170                                 Syed Naveed Qamar        P  \n37171                             Mir Ghulam Ali Talpur        P  \n37172                                 Ms. Shams un Nisa        P  \n37173                             Mr. Irfan Ali Leghari        P  \n37174                             Jam Abdul Karim Bijar        P  \n37175                              Mr. Jamil Ahmed Khan        P  \n37176                               Syed Agha Rafiullah        P  \n37177                       Mr. Iqbal Muhammad Ali Khan        P  \n37178                                   Mr. Faheem Khan        P  \n37179                                Mr. Saif Ur Rehman        P  \n37180                            Mr. Abdul Shakoor Shad        P  \n37181                             Mr. Abdul Qadir Patel        P  \n37182                                Syed Amin ul Haque        P  \n37183                                Mr. Aftab Jehangir        P  \n37184                                   Mr. Usama Qadri        P  \n37185                           Nawabzada Shazain Bugti        P  \n37186                          Mr. Khalid Hussain Magsi        P  \n37187                          Mir Khan Muhammad Jamali        P  \n37188                                    Mr. Asmatullah        P  \n37189                      Mr. Muhammad Qasim Khan Suri        P  \n37190                                Agha Hassan Baloch        P  \n37191                                 Syed Mehmood Shah        P  \n37192                       Mr. Muhammad Hashim Notezai        P  \n37193                        Mr. Muhammad Akhtar Mengal        P  \n37194                               Mr. Ehsanullah Reki        P  \n37195                              Ms. Tahira Aurangzeb        P  \n37196                               Ms. Shaista Pervaiz        P  \n37197                               Ms. Aysha Rajab Ali        P  \n37198                             Ms. Maryam Aurangzaib        P  \n37199                          Ms. Shaza Fatima Khawaja        P  \n37200                               Ms. Kiran lmran Dar        P  \n37201                          Ms. Romina Khurshid Alam        P  \n37202                                   Ms. Zaib Jaffar        P  \n37203                          Ms. Shahnaz Saleem Malik        P  \n37204                       Ms. Seema Mohiuddin Jameeli        P  \n37205                                  Ms. Maiza Hameed        P  \n37206                                 Ms. Munaza Hassan        P  \n37207                                   Ms. Asma Qadeer        P  \n37208                                Ms. Kanwal Shauzab        P  \n37209                              Ms. Sobia Kamal Khan        P  \n37210                                Dr. Nausheen Hamid        P  \n37211                                  Ms. Rubina Jamil        P  \n37212                           Ms. Maleeka Ali Bokhari        P  \n37213                                 Ms. Fauzia Behram        P  \n37214                               Ms. Rukhsana Naveed        P  \n37215                               Ms. Tashfeen Safdar        P  \n37216                                  Ms. Wajiha Akram        P  \n37217                               Ms. Shagufta Jumani        P  \n37218                                 Ms. Nasiba Channa        P  \n37219                        Ms. Mussarat Rafiq Mahesar        P  \n37220                                    Ms. Naz Baloch        P  \n37221                               Ms. Shahida Rehmani        P  \n37222                         Dr. Mahreen Razzaq Bhutto        P  \n37223                     Dr. Shazia Sobia Aslam Soomro        P  \n37224                            Ms. Shamim Ara Panhwar        P  \n37225                                   Ms. Syma Nadeem        P  \n37226                                 Ms. Ghazala Saifi        P  \n37227                                 Ms. Nuzhat Pathan        P  \n37228                                  Ms. Nusrat Wahid        P  \n37229              Ms. Nafeesa Inayatullah Khan Khattak        P  \n37230                                  Ms. Sajida Begum        P  \n37231                        Ms. Naureen Farooq Ibrahim        P  \n37232                          Ms. Shandana Gulzar Khan        P  \n37233                                     Ms. Uzma Riaz        P  \n37234                                    Ms. Zille Huma        P  \n37235                        Mst. Shaheen Naz Saifullah        P  \n37236                           Mrs. Shahida Akhtar Ali        P  \n37237                              Begum Tahira Bukhari        P  \n37238                                  Ms. Aliya Kamran        P  \n37239                          Prof. Dr. Shahnaz Baloch        P  \n37240                          Ms. Munawara Bibi Baloch        P  \n37241                                     Mr. Lal Chand        P  \n37242                                  Ms. Shunila Ruth        P  \n37243                         Mr. Ramesh Kumar Vankwani        P  \n37244                                Mr. Jamshed Thomas        P  \n37245                                       Dr. Darshan        P  \n37246                            Mr. Naveed Aamir Jeeva        P  \n37247                                   (Notice Office)      NaN  \n37248    1st Sitting held on Monday, the 11th May, 2020      NaN  \n37249                                               NaN      NaN  \n37250                                    Name of Member   Status  \n37251                      Moulana Abdul Akbar Chitrali        P  \n37252                                 Mr. Saleem Rehman        P  \n37253                                   Mr. Murad Saeed        P  \n37254                            Sahibzada Sibghatullah        P  ",
      "text/html": "<div>\n<style scoped>\n    .dataframe tbody tr th:only-of-type {\n        vertical-align: middle;\n    }\n\n    .dataframe tbody tr th {\n        vertical-align: top;\n    }\n\n    .dataframe thead th {\n        text-align: right;\n    }\n</style>\n<table border=\"1\" class=\"dataframe\">\n  <thead>\n    <tr style=\"text-align: right;\">\n      <th></th>\n      <th>meta</th>\n      <th>constituency</th>\n      <th>name</th>\n      <th>presense</th>\n    </tr>\n  </thead>\n  <tbody>\n    <tr>\n      <th>37040</th>\n      <td>255</td>\n      <td>Reserved Seat</td>\n      <td>Mr. Ramesh Kumar Vankwani</td>\n      <td>P</td>\n    </tr>\n    <tr>\n      <th>37041</th>\n      <td>256</td>\n      <td>Reserved Seat</td>\n      <td>Mr. Jamshed Thomas</td>\n      <td>P</td>\n    </tr>\n    <tr>\n      <th>37042</th>\n      <td>257</td>\n      <td>Reserved Seat</td>\n      <td>Dr. Darshan</td>\n      <td>P</td>\n    </tr>\n    <tr>\n      <th>37043</th>\n      <td>258</td>\n      <td>Reserved Seat</td>\n      <td>Mr. Kesoo Mal Kheeal Das</td>\n      <td>P</td>\n    </tr>\n    <tr>\n      <th>37044</th>\n      <td>259</td>\n      <td>Reserved Seat</td>\n      <td>Mr. Naveed Aamir Jeeva</td>\n      <td>P</td>\n    </tr>\n    <tr>\n      <th>37045</th>\n      <td>NaN</td>\n      <td>NaN</td>\n      <td>NATIONAL ASSEMBLY SECRETARIAT</td>\n      <td>NaN</td>\n    </tr>\n    <tr>\n      <th>37046</th>\n      <td>NaN</td>\n      <td>NaN</td>\n      <td>(Notice Office)</td>\n      <td>NaN</td>\n    </tr>\n    <tr>\n      <th>37047</th>\n      <td>20th Session</td>\n      <td>NaN</td>\n      <td>4th Sitting held on Friday, the 13th March, 2020</td>\n      <td>NaN</td>\n    </tr>\n    <tr>\n      <th>37048</th>\n      <td>The following Members National Assembly of Pak...</td>\n      <td>NaN</td>\n      <td>NaN</td>\n      <td>NaN</td>\n    </tr>\n    <tr>\n      <th>37049</th>\n      <td>Sl. No.</td>\n      <td>Constituency</td>\n      <td>Name of Member</td>\n      <td>Status</td>\n    </tr>\n    <tr>\n      <th>37050</th>\n      <td>1</td>\n      <td>NA-1</td>\n      <td>Moulana Abdul Akbar Chitrali</td>\n      <td>P</td>\n    </tr>\n    <tr>\n      <th>37051</th>\n      <td>2</td>\n      <td>NA-2</td>\n      <td>Dr. Haider Ali Khan</td>\n      <td>P</td>\n    </tr>\n    <tr>\n      <th>37052</th>\n      <td>3</td>\n      <td>NA-3</td>\n      <td>Mr. Saleem Rehman</td>\n      <td>P</td>\n    </tr>\n    <tr>\n      <th>37053</th>\n      <td>4</td>\n      <td>NA-4</td>\n      <td>Mr. Murad Saeed</td>\n      <td>P</td>\n    </tr>\n    <tr>\n      <th>37054</th>\n      <td>5</td>\n      <td>NA-5</td>\n      <td>Sahibzada Sibghatullah</td>\n      <td>P</td>\n    </tr>\n    <tr>\n      <th>37055</th>\n      <td>6</td>\n      <td>NA-6</td>\n      <td>Mr. Mehboob Shah</td>\n      <td>P</td>\n    </tr>\n    <tr>\n      <th>37056</th>\n      <td>7</td>\n      <td>NA-7</td>\n      <td>Mr. Muhammad Bashir Khan</td>\n      <td>P</td>\n    </tr>\n    <tr>\n      <th>37057</th>\n      <td>8</td>\n      <td>NA-8</td>\n      <td>Mr. Junaid Akbar</td>\n      <td>P</td>\n    </tr>\n    <tr>\n      <th>37058</th>\n      <td>9</td>\n      <td>NA-9</td>\n      <td>Mr. Sher Akbar Khan</td>\n      <td>P</td>\n    </tr>\n    <tr>\n      <th>37059</th>\n      <td>10</td>\n      <td>NA-10</td>\n      <td>Mr. Ibadullah Khan</td>\n      <td>P</td>\n    </tr>\n    <tr>\n      <th>37060</th>\n      <td>11</td>\n      <td>NA-11</td>\n      <td>Mr. Afreen Khan</td>\n      <td>P</td>\n    </tr>\n    <tr>\n      <th>37061</th>\n      <td>12</td>\n      <td>NA-12</td>\n      <td>Prince Muhammad Nawaz Alai</td>\n      <td>P</td>\n    </tr>\n    <tr>\n      <th>37062</th>\n      <td>13</td>\n      <td>NA-13</td>\n      <td>Mr. Saleh Muhammad</td>\n      <td>P</td>\n    </tr>\n    <tr>\n      <th>37063</th>\n      <td>14</td>\n      <td>NA-14</td>\n      <td>Mr. Muhammad Sajjad</td>\n      <td>P</td>\n    </tr>\n    <tr>\n      <th>37064</th>\n      <td>15</td>\n      <td>NA-15</td>\n      <td>Mr. Murtaza Javed Abbasi</td>\n      <td>P</td>\n    </tr>\n    <tr>\n      <th>37065</th>\n      <td>16</td>\n      <td>NA-16</td>\n      <td>Mr. Ali Khan Jadoon</td>\n      <td>P</td>\n    </tr>\n    <tr>\n      <th>37066</th>\n      <td>17</td>\n      <td>NA-17</td>\n      <td>Mr. Omar Ayub Khan</td>\n      <td>P</td>\n    </tr>\n    <tr>\n      <th>37067</th>\n      <td>18</td>\n      <td>NA-18</td>\n      <td>Mr. Asad Qaiser</td>\n      <td>P</td>\n    </tr>\n    <tr>\n      <th>37068</th>\n      <td>19</td>\n      <td>NA-19</td>\n      <td>Engr. Usman Khan Tarakai</td>\n      <td>P</td>\n    </tr>\n    <tr>\n      <th>37069</th>\n      <td>20</td>\n      <td>NA-22</td>\n      <td>Mr. Ali Muhammad Khan</td>\n      <td>P</td>\n    </tr>\n    <tr>\n      <th>37070</th>\n      <td>21</td>\n      <td>NA-23</td>\n      <td>Malik Anwar Taj</td>\n      <td>P</td>\n    </tr>\n    <tr>\n      <th>37071</th>\n      <td>22</td>\n      <td>NA-24</td>\n      <td>Mr. Fazal Muhammad Khan</td>\n      <td>P</td>\n    </tr>\n    <tr>\n      <th>37072</th>\n      <td>23</td>\n      <td>NA-26</td>\n      <td>Mr. Imran Khattak</td>\n      <td>P</td>\n    </tr>\n    <tr>\n      <th>37073</th>\n      <td>24</td>\n      <td>NA-27</td>\n      <td>Mr. Noor Alam Khan</td>\n      <td>P</td>\n    </tr>\n    <tr>\n      <th>37074</th>\n      <td>25</td>\n      <td>NA-29</td>\n      <td>Mr. Nasir Khan Musa Zai</td>\n      <td>P</td>\n    </tr>\n    <tr>\n      <th>37075</th>\n      <td>26</td>\n      <td>NA-30</td>\n      <td>Mr. Sher Ali Arbab</td>\n      <td>P</td>\n    </tr>\n    <tr>\n      <th>37076</th>\n      <td>27</td>\n      <td>NA-31</td>\n      <td>Mr. Shaukat Ali</td>\n      <td>P</td>\n    </tr>\n    <tr>\n      <th>37077</th>\n      <td>28</td>\n      <td>NA-34</td>\n      <td>Mr. Shahid Ahmad</td>\n      <td>P</td>\n    </tr>\n    <tr>\n      <th>37078</th>\n      <td>29</td>\n      <td>NA-36</td>\n      <td>Mr. Muhammad Anwar</td>\n      <td>P</td>\n    </tr>\n    <tr>\n      <th>37079</th>\n      <td>30</td>\n      <td>NA-37</td>\n      <td>Mr. Asad Mehmood</td>\n      <td>P</td>\n    </tr>\n    <tr>\n      <th>37080</th>\n      <td>31</td>\n      <td>NA-40</td>\n      <td>Mr. Gul Dad khan</td>\n      <td>P</td>\n    </tr>\n    <tr>\n      <th>37081</th>\n      <td>32</td>\n      <td>NA-41</td>\n      <td>Mr. Gul Zafar Khan</td>\n      <td>P</td>\n    </tr>\n    <tr>\n      <th>37082</th>\n      <td>33</td>\n      <td>NA-44</td>\n      <td>Mr. Mohammad Iqbal Khan</td>\n      <td>P</td>\n    </tr>\n    <tr>\n      <th>37083</th>\n      <td>34</td>\n      <td>NA-45</td>\n      <td>Mr. Munir Khan Orakzai</td>\n      <td>P</td>\n    </tr>\n    <tr>\n      <th>37084</th>\n      <td>35</td>\n      <td>NA-46</td>\n      <td>Mr. Sajid Hussain Turi</td>\n      <td>P</td>\n    </tr>\n    <tr>\n      <th>37085</th>\n      <td>36</td>\n      <td>NA-48</td>\n      <td>Mr. Mohsin Dawar</td>\n      <td>P</td>\n    </tr>\n    <tr>\n      <th>37086</th>\n      <td>37</td>\n      <td>NA-49</td>\n      <td>Mr. Muhammad Jamal-ud-Din</td>\n      <td>P</td>\n    </tr>\n    <tr>\n      <th>37087</th>\n      <td>38</td>\n      <td>NA-50</td>\n      <td>Mr. Ali Wazir</td>\n      <td>P</td>\n    </tr>\n    <tr>\n      <th>37088</th>\n      <td>39</td>\n      <td>NA-52</td>\n      <td>Raja Khurram Shahzad Nawaz</td>\n      <td>P</td>\n    </tr>\n    <tr>\n      <th>37089</th>\n      <td>40</td>\n      <td>NA-53</td>\n      <td>Mr. Ali Nawaz Awan</td>\n      <td>P</td>\n    </tr>\n    <tr>\n      <th>37090</th>\n      <td>41</td>\n      <td>NA-56</td>\n      <td>Malik Sohail Khan</td>\n      <td>P</td>\n    </tr>\n    <tr>\n      <th>37091</th>\n      <td>42</td>\n      <td>NA-57</td>\n      <td>Mr. Sadaqat Ali Khan</td>\n      <td>P</td>\n    </tr>\n    <tr>\n      <th>37092</th>\n      <td>43</td>\n      <td>NA-58</td>\n      <td>Raja Pervaiz Ashraf</td>\n      <td>P</td>\n    </tr>\n    <tr>\n      <th>37093</th>\n      <td>44</td>\n      <td>NA-59</td>\n      <td>Mr. Ghulam Sarwar Khan</td>\n      <td>P</td>\n    </tr>\n    <tr>\n      <th>37094</th>\n      <td>45</td>\n      <td>NA-60</td>\n      <td>Sheikh Rashid Shafique</td>\n      <td>P</td>\n    </tr>\n    <tr>\n      <th>37095</th>\n      <td>46</td>\n      <td>NA-61</td>\n      <td>Mr. Aamir Mehmood Kiyani</td>\n      <td>P</td>\n    </tr>\n    <tr>\n      <th>37096</th>\n      <td>47</td>\n      <td>NA-64</td>\n      <td>Sardar Zulfiqar Ali Khan Dullah</td>\n      <td>P</td>\n    </tr>\n    <tr>\n      <th>37097</th>\n      <td>48</td>\n      <td>NA-70</td>\n      <td>Syed Faiz ul Hassan</td>\n      <td>P</td>\n    </tr>\n    <tr>\n      <th>37098</th>\n      <td>49</td>\n      <td>NA-72</td>\n      <td>Ch. Armghan Subhani</td>\n      <td>P</td>\n    </tr>\n    <tr>\n      <th>37099</th>\n      <td>50</td>\n      <td>NA-74</td>\n      <td>Mr. Ali Zahid</td>\n      <td>P</td>\n    </tr>\n    <tr>\n      <th>37100</th>\n      <td>51</td>\n      <td>NA-75</td>\n      <td>Syed Iftikhar Ul Hassan</td>\n      <td>P</td>\n    </tr>\n    <tr>\n      <th>37101</th>\n      <td>52</td>\n      <td>NA-76</td>\n      <td>Rana Shamim Ahmed Khan</td>\n      <td>P</td>\n    </tr>\n    <tr>\n      <th>37102</th>\n      <td>53</td>\n      <td>NA-78</td>\n      <td>Mr. Ahsan Iqbal Chaudhary</td>\n      <td>P</td>\n    </tr>\n    <tr>\n      <th>37103</th>\n      <td>54</td>\n      <td>NA-79</td>\n      <td>Mr. Nisar Ahmed Cheema</td>\n      <td>P</td>\n    </tr>\n    <tr>\n      <th>37104</th>\n      <td>55</td>\n      <td>NA-80</td>\n      <td>Ch. Mehmood Bashir Virk</td>\n      <td>P</td>\n    </tr>\n    <tr>\n      <th>37105</th>\n      <td>56</td>\n      <td>NA-82</td>\n      <td>Mr. Usman Ibrahim</td>\n      <td>P</td>\n    </tr>\n    <tr>\n      <th>37106</th>\n      <td>57</td>\n      <td>NA-83</td>\n      <td>Ch. Zulfiqar Ali Bhinder</td>\n      <td>P</td>\n    </tr>\n    <tr>\n      <th>37107</th>\n      <td>58</td>\n      <td>NA-84</td>\n      <td>Mr. Azhar Qayyum Nahra</td>\n      <td>P</td>\n    </tr>\n    <tr>\n      <th>37108</th>\n      <td>59</td>\n      <td>NA-85</td>\n      <td>Haji Imtiaz Ahmed Choudhary</td>\n      <td>P</td>\n    </tr>\n    <tr>\n      <th>37109</th>\n      <td>60</td>\n      <td>NA-86</td>\n      <td>Mr. Nasir Iqbal Bosal</td>\n      <td>P</td>\n    </tr>\n    <tr>\n      <th>37110</th>\n      <td>61</td>\n      <td>NA-88</td>\n      <td>Mr. Mukhtar Ahmad Malik</td>\n      <td>P</td>\n    </tr>\n    <tr>\n      <th>37111</th>\n      <td>62</td>\n      <td>NA-89</td>\n      <td>Mr. Mohsin Nawaz Ranjha</td>\n      <td>P</td>\n    </tr>\n    <tr>\n      <th>37112</th>\n      <td>63</td>\n      <td>NA-91</td>\n      <td>Ch. Aamir Sultan Cheema</td>\n      <td>P</td>\n    </tr>\n    <tr>\n      <th>37113</th>\n      <td>64</td>\n      <td>NA-93</td>\n      <td>Mr. Umar Aslam Khan</td>\n      <td>P</td>\n    </tr>\n    <tr>\n      <th>37114</th>\n      <td>65</td>\n      <td>NA-94</td>\n      <td>Malik Muhammad Ehsan Ullah Tiwana</td>\n      <td>P</td>\n    </tr>\n    <tr>\n      <th>37115</th>\n      <td>66</td>\n      <td>NA-96</td>\n      <td>Mr. Amjad Ali Khan</td>\n      <td>P</td>\n    </tr>\n    <tr>\n      <th>37116</th>\n      <td>67</td>\n      <td>NA-98</td>\n      <td>Dr. Muhammad Afzal Khan Dhandla</td>\n      <td>P</td>\n    </tr>\n    <tr>\n      <th>37117</th>\n      <td>68</td>\n      <td>NA-100</td>\n      <td>Mr. Qaiser Ahmed Sheikh</td>\n      <td>P</td>\n    </tr>\n    <tr>\n      <th>37118</th>\n      <td>69</td>\n      <td>NA-102</td>\n      <td>Mr. Nawab Sher</td>\n      <td>P</td>\n    </tr>\n    <tr>\n      <th>37119</th>\n      <td>70</td>\n      <td>NA-106</td>\n      <td>Rana Sana Ullah Khan</td>\n      <td>P</td>\n    </tr>\n    <tr>\n      <th>37120</th>\n      <td>71</td>\n      <td>NA-107</td>\n      <td>Mr. Khurram Shahzad</td>\n      <td>P</td>\n    </tr>\n    <tr>\n      <th>37121</th>\n      <td>72</td>\n      <td>NA-108</td>\n      <td>Mr. Farrukh Habib</td>\n      <td>P</td>\n    </tr>\n    <tr>\n      <th>37122</th>\n      <td>73</td>\n      <td>NA-109</td>\n      <td>Mr. Faiz Ullah</td>\n      <td>P</td>\n    </tr>\n    <tr>\n      <th>37123</th>\n      <td>74</td>\n      <td>NA-112</td>\n      <td>Mr. Muhammad Junaid Anwar Chaudhry</td>\n      <td>P</td>\n    </tr>\n    <tr>\n      <th>37124</th>\n      <td>75</td>\n      <td>NA-116</td>\n      <td>Mr. Muhammad Ameer Sultan</td>\n      <td>P</td>\n    </tr>\n    <tr>\n      <th>37125</th>\n      <td>76</td>\n      <td>NA-122</td>\n      <td>Sardar Muhammad Irfan Dogar</td>\n      <td>P</td>\n    </tr>\n    <tr>\n      <th>37126</th>\n      <td>77</td>\n      <td>NA-124</td>\n      <td>Mr. Shahid Khaqan Abbasi</td>\n      <td>P</td>\n    </tr>\n    <tr>\n      <th>37127</th>\n      <td>78</td>\n      <td>NA-125</td>\n      <td>Mr. Waheed Alam Khan</td>\n      <td>P</td>\n    </tr>\n    <tr>\n      <th>37128</th>\n      <td>79</td>\n      <td>NA-130</td>\n      <td>Mr. Shafqat Mahmood</td>\n      <td>P</td>\n    </tr>\n    <tr>\n      <th>37129</th>\n      <td>80</td>\n      <td>NA-131</td>\n      <td>Khawaja Saad Rafique</td>\n      <td>P</td>\n    </tr>\n    <tr>\n      <th>37130</th>\n      <td>81</td>\n      <td>NA-134</td>\n      <td>Rana Mubashir Iqbal</td>\n      <td>P</td>\n    </tr>\n    <tr>\n      <th>37131</th>\n      <td>82</td>\n      <td>NA-135</td>\n      <td>Malik Karamat Ali Khokhar</td>\n      <td>P</td>\n    </tr>\n    <tr>\n      <th>37132</th>\n      <td>83</td>\n      <td>NA-137</td>\n      <td>Mr. Saad Waseem</td>\n      <td>P</td>\n    </tr>\n    <tr>\n      <th>37133</th>\n      <td>84</td>\n      <td>NA-143</td>\n      <td>Rao Muhammad Ajmal Khan</td>\n      <td>P</td>\n    </tr>\n    <tr>\n      <th>37134</th>\n      <td>85</td>\n      <td>NA-146</td>\n      <td>Rana Iradat Sharif Khan</td>\n      <td>P</td>\n    </tr>\n    <tr>\n      <th>37135</th>\n      <td>86</td>\n      <td>NA-149</td>\n      <td>Rai Muhammad Murtaza Iqbal</td>\n      <td>P</td>\n    </tr>\n    <tr>\n      <th>37136</th>\n      <td>87</td>\n      <td>NA-150</td>\n      <td>Syed Fakhar Imam</td>\n      <td>P</td>\n    </tr>\n    <tr>\n      <th>37137</th>\n      <td>88</td>\n      <td>NA-151</td>\n      <td>Mr. Muhammad Khan Daha</td>\n      <td>P</td>\n    </tr>\n    <tr>\n      <th>37138</th>\n      <td>89</td>\n      <td>NA-157</td>\n      <td>Makhdoom Zain Hussain Qureshi</td>\n      <td>P</td>\n    </tr>\n    <tr>\n      <th>37139</th>\n      <td>90</td>\n      <td>NA-158</td>\n      <td>Mr. Muhammad Ibrahim Khan</td>\n      <td>P</td>\n    </tr>\n    <tr>\n      <th>37140</th>\n      <td>91</td>\n      <td>NA-159</td>\n      <td>Rana Muhammad Qasim Noon</td>\n      <td>P</td>\n    </tr>\n    <tr>\n      <th>37141</th>\n      <td>92</td>\n      <td>NA-160</td>\n      <td>Mr. Abdul Rehman Kanju</td>\n      <td>P</td>\n    </tr>\n    <tr>\n      <th>37142</th>\n      <td>93</td>\n      <td>NA-161</td>\n      <td>Mian Muhammad Shafiq</td>\n      <td>P</td>\n    </tr>\n    <tr>\n      <th>37143</th>\n      <td>94</td>\n      <td>NA-162</td>\n      <td>Choudhary Faqir Ahmad</td>\n      <td>P</td>\n    </tr>\n    <tr>\n      <th>37144</th>\n      <td>95</td>\n      <td>NA-163</td>\n      <td>Mr. Sajid Mehdi</td>\n      <td>P</td>\n    </tr>\n    <tr>\n      <th>37145</th>\n      <td>96</td>\n      <td>NA-164</td>\n      <td>Mr. Tahir Iqbal</td>\n      <td>P</td>\n    </tr>\n    <tr>\n      <th>37146</th>\n      <td>97</td>\n      <td>NA-169</td>\n      <td>Mr. Noor ul Hassan Tanvir</td>\n      <td>P</td>\n    </tr>\n    <tr>\n      <th>37147</th>\n      <td>98</td>\n      <td>NA-173</td>\n      <td>Mian Najeeb ud Din Awaisi</td>\n      <td>P</td>\n    </tr>\n    <tr>\n      <th>37148</th>\n      <td>99</td>\n      <td>NA-175</td>\n      <td>Syed Mobeen Ahmed</td>\n      <td>P</td>\n    </tr>\n    <tr>\n      <th>37149</th>\n      <td>100</td>\n      <td>NA-179</td>\n      <td>Ch. Javed Iqbal Waraich</td>\n      <td>P</td>\n    </tr>\n    <tr>\n      <th>37150</th>\n      <td>101</td>\n      <td>NA-182</td>\n      <td>Mahar Irshad Ahmad Khan</td>\n      <td>P</td>\n    </tr>\n    <tr>\n      <th>37151</th>\n      <td>102</td>\n      <td>NA-184</td>\n      <td>Nawabzada Iftakhar Ahmed Khan Babar</td>\n      <td>P</td>\n    </tr>\n    <tr>\n      <th>37152</th>\n      <td>103</td>\n      <td>NA-185</td>\n      <td>Makhdom Basit Bokhari</td>\n      <td>P</td>\n    </tr>\n    <tr>\n      <th>37153</th>\n      <td>104</td>\n      <td>NA-190</td>\n      <td>Mr. Muhammad Amjad Farooq Khan Khosa</td>\n      <td>P</td>\n    </tr>\n    <tr>\n      <th>37154</th>\n      <td>105</td>\n      <td>NA-191</td>\n      <td>Ms. Zartaj Gul</td>\n      <td>P</td>\n    </tr>\n    <tr>\n      <th>37155</th>\n      <td>106</td>\n      <td>NA-194</td>\n      <td>Sardar Nasrullah Khan Dreshak</td>\n      <td>P</td>\n    </tr>\n    <tr>\n      <th>37156</th>\n      <td>107</td>\n      <td>NA-195</td>\n      <td>Sardar Riaz Mehmood Khan Mazari</td>\n      <td>P</td>\n    </tr>\n    <tr>\n      <th>37157</th>\n      <td>108</td>\n      <td>NA-198</td>\n      <td>Mr. Abid Hussain Bhayo</td>\n      <td>P</td>\n    </tr>\n    <tr>\n      <th>37158</th>\n      <td>109</td>\n      <td>NA-201</td>\n      <td>Mr. Khursheed Ahmed Junejo</td>\n      <td>P</td>\n    </tr>\n    <tr>\n      <th>37159</th>\n      <td>110</td>\n      <td>NA-202</td>\n      <td>Mr. Aftab Shahban Mirani</td>\n      <td>P</td>\n    </tr>\n    <tr>\n      <th>37160</th>\n      <td>111</td>\n      <td>NA-204</td>\n      <td>Mr. Khalid Ahmed Khan Lund</td>\n      <td>P</td>\n    </tr>\n    <tr>\n      <th>37161</th>\n      <td>112</td>\n      <td>NA-208</td>\n      <td>Dr. Nafisa Shah</td>\n      <td>P</td>\n    </tr>\n    <tr>\n      <th>37162</th>\n      <td>113</td>\n      <td>NA-210</td>\n      <td>Syed Javed Ali Shah Jillani</td>\n      <td>P</td>\n    </tr>\n    <tr>\n      <th>37163</th>\n      <td>114</td>\n      <td>NA-212</td>\n      <td>Mr. Zulfiqar Ali Behan</td>\n      <td>P</td>\n    </tr>\n    <tr>\n      <th>37164</th>\n      <td>115</td>\n      <td>NA-216</td>\n      <td>Ms. Shazia Marri</td>\n      <td>P</td>\n    </tr>\n    <tr>\n      <th>37165</th>\n      <td>116</td>\n      <td>NA-218</td>\n      <td>Mr. Ali Nawaz Shah</td>\n      <td>P</td>\n    </tr>\n    <tr>\n      <th>37166</th>\n      <td>117</td>\n      <td>NA-221</td>\n      <td>Pir Noor Muhammad Shah Jillani</td>\n      <td>P</td>\n    </tr>\n    <tr>\n      <th>37167</th>\n      <td>118</td>\n      <td>NA-225</td>\n      <td>Syed Hussain Tariq</td>\n      <td>P</td>\n    </tr>\n    <tr>\n      <th>37168</th>\n      <td>119</td>\n      <td>NA-226</td>\n      <td>Engr. Sabir Hussain Kaim Khani</td>\n      <td>P</td>\n    </tr>\n    <tr>\n      <th>37169</th>\n      <td>120</td>\n      <td>NA-227</td>\n      <td>Mr. Salahuddin</td>\n      <td>P</td>\n    </tr>\n    <tr>\n      <th>37170</th>\n      <td>121</td>\n      <td>NA-228</td>\n      <td>Syed Naveed Qamar</td>\n      <td>P</td>\n    </tr>\n    <tr>\n      <th>37171</th>\n      <td>122</td>\n      <td>NA-229</td>\n      <td>Mir Ghulam Ali Talpur</td>\n      <td>P</td>\n    </tr>\n    <tr>\n      <th>37172</th>\n      <td>123</td>\n      <td>NA-232</td>\n      <td>Ms. Shams un Nisa</td>\n      <td>P</td>\n    </tr>\n    <tr>\n      <th>37173</th>\n      <td>124</td>\n      <td>NA-234</td>\n      <td>Mr. Irfan Ali Leghari</td>\n      <td>P</td>\n    </tr>\n    <tr>\n      <th>37174</th>\n      <td>125</td>\n      <td>NA-236</td>\n      <td>Jam Abdul Karim Bijar</td>\n      <td>P</td>\n    </tr>\n    <tr>\n      <th>37175</th>\n      <td>126</td>\n      <td>NA-237</td>\n      <td>Mr. Jamil Ahmed Khan</td>\n      <td>P</td>\n    </tr>\n    <tr>\n      <th>37176</th>\n      <td>127</td>\n      <td>NA-238</td>\n      <td>Syed Agha Rafiullah</td>\n      <td>P</td>\n    </tr>\n    <tr>\n      <th>37177</th>\n      <td>128</td>\n      <td>NA-240</td>\n      <td>Mr. Iqbal Muhammad Ali Khan</td>\n      <td>P</td>\n    </tr>\n    <tr>\n      <th>37178</th>\n      <td>129</td>\n      <td>NA-241</td>\n      <td>Mr. Faheem Khan</td>\n      <td>P</td>\n    </tr>\n    <tr>\n      <th>37179</th>\n      <td>130</td>\n      <td>NA-242</td>\n      <td>Mr. Saif Ur Rehman</td>\n      <td>P</td>\n    </tr>\n    <tr>\n      <th>37180</th>\n      <td>131</td>\n      <td>NA-246</td>\n      <td>Mr. Abdul Shakoor Shad</td>\n      <td>P</td>\n    </tr>\n    <tr>\n      <th>37181</th>\n      <td>132</td>\n      <td>NA-248</td>\n      <td>Mr. Abdul Qadir Patel</td>\n      <td>P</td>\n    </tr>\n    <tr>\n      <th>37182</th>\n      <td>133</td>\n      <td>NA-251</td>\n      <td>Syed Amin ul Haque</td>\n      <td>P</td>\n    </tr>\n    <tr>\n      <th>37183</th>\n      <td>134</td>\n      <td>NA-252</td>\n      <td>Mr. Aftab Jehangir</td>\n      <td>P</td>\n    </tr>\n    <tr>\n      <th>37184</th>\n      <td>135</td>\n      <td>NA-253</td>\n      <td>Mr. Usama Qadri</td>\n      <td>P</td>\n    </tr>\n    <tr>\n      <th>37185</th>\n      <td>136</td>\n      <td>NA-259</td>\n      <td>Nawabzada Shazain Bugti</td>\n      <td>P</td>\n    </tr>\n    <tr>\n      <th>37186</th>\n      <td>137</td>\n      <td>NA-260</td>\n      <td>Mr. Khalid Hussain Magsi</td>\n      <td>P</td>\n    </tr>\n    <tr>\n      <th>37187</th>\n      <td>138</td>\n      <td>NA-261</td>\n      <td>Mir Khan Muhammad Jamali</td>\n      <td>P</td>\n    </tr>\n    <tr>\n      <th>37188</th>\n      <td>139</td>\n      <td>NA-264</td>\n      <td>Mr. Asmatullah</td>\n      <td>P</td>\n    </tr>\n    <tr>\n      <th>37189</th>\n      <td>140</td>\n      <td>NA-265</td>\n      <td>Mr. Muhammad Qasim Khan Suri</td>\n      <td>P</td>\n    </tr>\n    <tr>\n      <th>37190</th>\n      <td>141</td>\n      <td>NA-266</td>\n      <td>Agha Hassan Baloch</td>\n      <td>P</td>\n    </tr>\n    <tr>\n      <th>37191</th>\n      <td>142</td>\n      <td>NA-267</td>\n      <td>Syed Mehmood Shah</td>\n      <td>P</td>\n    </tr>\n    <tr>\n      <th>37192</th>\n      <td>143</td>\n      <td>NA-268</td>\n      <td>Mr. Muhammad Hashim Notezai</td>\n      <td>P</td>\n    </tr>\n    <tr>\n      <th>37193</th>\n      <td>144</td>\n      <td>NA-269</td>\n      <td>Mr. Muhammad Akhtar Mengal</td>\n      <td>P</td>\n    </tr>\n    <tr>\n      <th>37194</th>\n      <td>145</td>\n      <td>NA-270</td>\n      <td>Mr. Ehsanullah Reki</td>\n      <td>P</td>\n    </tr>\n    <tr>\n      <th>37195</th>\n      <td>146</td>\n      <td>Reserved Seat</td>\n      <td>Ms. Tahira Aurangzeb</td>\n      <td>P</td>\n    </tr>\n    <tr>\n      <th>37196</th>\n      <td>147</td>\n      <td>Reserved Seat</td>\n      <td>Ms. Shaista Pervaiz</td>\n      <td>P</td>\n    </tr>\n    <tr>\n      <th>37197</th>\n      <td>148</td>\n      <td>Reserved Seat</td>\n      <td>Ms. Aysha Rajab Ali</td>\n      <td>P</td>\n    </tr>\n    <tr>\n      <th>37198</th>\n      <td>149</td>\n      <td>Reserved Seat</td>\n      <td>Ms. Maryam Aurangzaib</td>\n      <td>P</td>\n    </tr>\n    <tr>\n      <th>37199</th>\n      <td>150</td>\n      <td>Reserved Seat</td>\n      <td>Ms. Shaza Fatima Khawaja</td>\n      <td>P</td>\n    </tr>\n    <tr>\n      <th>37200</th>\n      <td>151</td>\n      <td>Reserved Seat</td>\n      <td>Ms. Kiran lmran Dar</td>\n      <td>P</td>\n    </tr>\n    <tr>\n      <th>37201</th>\n      <td>152</td>\n      <td>Reserved Seat</td>\n      <td>Ms. Romina Khurshid Alam</td>\n      <td>P</td>\n    </tr>\n    <tr>\n      <th>37202</th>\n      <td>153</td>\n      <td>Reserved Seat</td>\n      <td>Ms. Zaib Jaffar</td>\n      <td>P</td>\n    </tr>\n    <tr>\n      <th>37203</th>\n      <td>154</td>\n      <td>Reserved Seat</td>\n      <td>Ms. Shahnaz Saleem Malik</td>\n      <td>P</td>\n    </tr>\n    <tr>\n      <th>37204</th>\n      <td>155</td>\n      <td>Reserved Seat</td>\n      <td>Ms. Seema Mohiuddin Jameeli</td>\n      <td>P</td>\n    </tr>\n    <tr>\n      <th>37205</th>\n      <td>156</td>\n      <td>Reserved Seat</td>\n      <td>Ms. Maiza Hameed</td>\n      <td>P</td>\n    </tr>\n    <tr>\n      <th>37206</th>\n      <td>157</td>\n      <td>Reserved Seat</td>\n      <td>Ms. Munaza Hassan</td>\n      <td>P</td>\n    </tr>\n    <tr>\n      <th>37207</th>\n      <td>158</td>\n      <td>Reserved Seat</td>\n      <td>Ms. Asma Qadeer</td>\n      <td>P</td>\n    </tr>\n    <tr>\n      <th>37208</th>\n      <td>159</td>\n      <td>Reserved Seat</td>\n      <td>Ms. Kanwal Shauzab</td>\n      <td>P</td>\n    </tr>\n    <tr>\n      <th>37209</th>\n      <td>160</td>\n      <td>Reserved Seat</td>\n      <td>Ms. Sobia Kamal Khan</td>\n      <td>P</td>\n    </tr>\n    <tr>\n      <th>37210</th>\n      <td>161</td>\n      <td>Reserved Seat</td>\n      <td>Dr. Nausheen Hamid</td>\n      <td>P</td>\n    </tr>\n    <tr>\n      <th>37211</th>\n      <td>162</td>\n      <td>Reserved Seat</td>\n      <td>Ms. Rubina Jamil</td>\n      <td>P</td>\n    </tr>\n    <tr>\n      <th>37212</th>\n      <td>163</td>\n      <td>Reserved Seat</td>\n      <td>Ms. Maleeka Ali Bokhari</td>\n      <td>P</td>\n    </tr>\n    <tr>\n      <th>37213</th>\n      <td>164</td>\n      <td>Reserved Seat</td>\n      <td>Ms. Fauzia Behram</td>\n      <td>P</td>\n    </tr>\n    <tr>\n      <th>37214</th>\n      <td>165</td>\n      <td>Reserved Seat</td>\n      <td>Ms. Rukhsana Naveed</td>\n      <td>P</td>\n    </tr>\n    <tr>\n      <th>37215</th>\n      <td>166</td>\n      <td>Reserved Seat</td>\n      <td>Ms. Tashfeen Safdar</td>\n      <td>P</td>\n    </tr>\n    <tr>\n      <th>37216</th>\n      <td>167</td>\n      <td>Reserved Seat</td>\n      <td>Ms. Wajiha Akram</td>\n      <td>P</td>\n    </tr>\n    <tr>\n      <th>37217</th>\n      <td>168</td>\n      <td>Reserved Seat</td>\n      <td>Ms. Shagufta Jumani</td>\n      <td>P</td>\n    </tr>\n    <tr>\n      <th>37218</th>\n      <td>169</td>\n      <td>Reserved Seat</td>\n      <td>Ms. Nasiba Channa</td>\n      <td>P</td>\n    </tr>\n    <tr>\n      <th>37219</th>\n      <td>170</td>\n      <td>Reserved Seat</td>\n      <td>Ms. Mussarat Rafiq Mahesar</td>\n      <td>P</td>\n    </tr>\n    <tr>\n      <th>37220</th>\n      <td>171</td>\n      <td>Reserved Seat</td>\n      <td>Ms. Naz Baloch</td>\n      <td>P</td>\n    </tr>\n    <tr>\n      <th>37221</th>\n      <td>172</td>\n      <td>Reserved Seat</td>\n      <td>Ms. Shahida Rehmani</td>\n      <td>P</td>\n    </tr>\n    <tr>\n      <th>37222</th>\n      <td>173</td>\n      <td>Reserved Seat</td>\n      <td>Dr. Mahreen Razzaq Bhutto</td>\n      <td>P</td>\n    </tr>\n    <tr>\n      <th>37223</th>\n      <td>174</td>\n      <td>Reserved Seat</td>\n      <td>Dr. Shazia Sobia Aslam Soomro</td>\n      <td>P</td>\n    </tr>\n    <tr>\n      <th>37224</th>\n      <td>175</td>\n      <td>Reserved Seat</td>\n      <td>Ms. Shamim Ara Panhwar</td>\n      <td>P</td>\n    </tr>\n    <tr>\n      <th>37225</th>\n      <td>176</td>\n      <td>Reserved Seat</td>\n      <td>Ms. Syma Nadeem</td>\n      <td>P</td>\n    </tr>\n    <tr>\n      <th>37226</th>\n      <td>177</td>\n      <td>Reserved Seat</td>\n      <td>Ms. Ghazala Saifi</td>\n      <td>P</td>\n    </tr>\n    <tr>\n      <th>37227</th>\n      <td>178</td>\n      <td>Reserved Seat</td>\n      <td>Ms. Nuzhat Pathan</td>\n      <td>P</td>\n    </tr>\n    <tr>\n      <th>37228</th>\n      <td>179</td>\n      <td>Reserved Seat</td>\n      <td>Ms. Nusrat Wahid</td>\n      <td>P</td>\n    </tr>\n    <tr>\n      <th>37229</th>\n      <td>180</td>\n      <td>Reserved Seat</td>\n      <td>Ms. Nafeesa Inayatullah Khan Khattak</td>\n      <td>P</td>\n    </tr>\n    <tr>\n      <th>37230</th>\n      <td>181</td>\n      <td>Reserved Seat</td>\n      <td>Ms. Sajida Begum</td>\n      <td>P</td>\n    </tr>\n    <tr>\n      <th>37231</th>\n      <td>182</td>\n      <td>Reserved Seat</td>\n      <td>Ms. Naureen Farooq Ibrahim</td>\n      <td>P</td>\n    </tr>\n    <tr>\n      <th>37232</th>\n      <td>183</td>\n      <td>Reserved Seat</td>\n      <td>Ms. Shandana Gulzar Khan</td>\n      <td>P</td>\n    </tr>\n    <tr>\n      <th>37233</th>\n      <td>184</td>\n      <td>Reserved Seat</td>\n      <td>Ms. Uzma Riaz</td>\n      <td>P</td>\n    </tr>\n    <tr>\n      <th>37234</th>\n      <td>185</td>\n      <td>Reserved Seat</td>\n      <td>Ms. Zille Huma</td>\n      <td>P</td>\n    </tr>\n    <tr>\n      <th>37235</th>\n      <td>186</td>\n      <td>Reserved Seat</td>\n      <td>Mst. Shaheen Naz Saifullah</td>\n      <td>P</td>\n    </tr>\n    <tr>\n      <th>37236</th>\n      <td>187</td>\n      <td>Reserved Seat</td>\n      <td>Mrs. Shahida Akhtar Ali</td>\n      <td>P</td>\n    </tr>\n    <tr>\n      <th>37237</th>\n      <td>188</td>\n      <td>Reserved Seat</td>\n      <td>Begum Tahira Bukhari</td>\n      <td>P</td>\n    </tr>\n    <tr>\n      <th>37238</th>\n      <td>189</td>\n      <td>Reserved Seat</td>\n      <td>Ms. Aliya Kamran</td>\n      <td>P</td>\n    </tr>\n    <tr>\n      <th>37239</th>\n      <td>190</td>\n      <td>Reserved Seat</td>\n      <td>Prof. Dr. Shahnaz Baloch</td>\n      <td>P</td>\n    </tr>\n    <tr>\n      <th>37240</th>\n      <td>191</td>\n      <td>Reserved Seat</td>\n      <td>Ms. Munawara Bibi Baloch</td>\n      <td>P</td>\n    </tr>\n    <tr>\n      <th>37241</th>\n      <td>192</td>\n      <td>Reserved Seat</td>\n      <td>Mr. Lal Chand</td>\n      <td>P</td>\n    </tr>\n    <tr>\n      <th>37242</th>\n      <td>193</td>\n      <td>Reserved Seat</td>\n      <td>Ms. Shunila Ruth</td>\n      <td>P</td>\n    </tr>\n    <tr>\n      <th>37243</th>\n      <td>194</td>\n      <td>Reserved Seat</td>\n      <td>Mr. Ramesh Kumar Vankwani</td>\n      <td>P</td>\n    </tr>\n    <tr>\n      <th>37244</th>\n      <td>195</td>\n      <td>Reserved Seat</td>\n      <td>Mr. Jamshed Thomas</td>\n      <td>P</td>\n    </tr>\n    <tr>\n      <th>37245</th>\n      <td>196</td>\n      <td>Reserved Seat</td>\n      <td>Dr. Darshan</td>\n      <td>P</td>\n    </tr>\n    <tr>\n      <th>37246</th>\n      <td>197</td>\n      <td>Reserved Seat</td>\n      <td>Mr. Naveed Aamir Jeeva</td>\n      <td>P</td>\n    </tr>\n    <tr>\n      <th>37247</th>\n      <td>NaN</td>\n      <td>NaN</td>\n      <td>(Notice Office)</td>\n      <td>NaN</td>\n    </tr>\n    <tr>\n      <th>37248</th>\n      <td>21st Session</td>\n      <td>NaN</td>\n      <td>1st Sitting held on Monday, the 11th May, 2020</td>\n      <td>NaN</td>\n    </tr>\n    <tr>\n      <th>37249</th>\n      <td>The following Members National Assembly of Pak...</td>\n      <td>NaN</td>\n      <td>NaN</td>\n      <td>NaN</td>\n    </tr>\n    <tr>\n      <th>37250</th>\n      <td>Sl. No.</td>\n      <td>Constituency</td>\n      <td>Name of Member</td>\n      <td>Status</td>\n    </tr>\n    <tr>\n      <th>37251</th>\n      <td>1</td>\n      <td>NA-1</td>\n      <td>Moulana Abdul Akbar Chitrali</td>\n      <td>P</td>\n    </tr>\n    <tr>\n      <th>37252</th>\n      <td>2</td>\n      <td>NA-3</td>\n      <td>Mr. Saleem Rehman</td>\n      <td>P</td>\n    </tr>\n    <tr>\n      <th>37253</th>\n      <td>3</td>\n      <td>NA-4</td>\n      <td>Mr. Murad Saeed</td>\n      <td>P</td>\n    </tr>\n    <tr>\n      <th>37254</th>\n      <td>4</td>\n      <td>NA-5</td>\n      <td>Sahibzada Sibghatullah</td>\n      <td>P</td>\n    </tr>\n  </tbody>\n</table>\n</div>"
     },
     "execution_count": 19,
     "metadata": {},
     "output_type": "execute_result"
    }
   ],
   "source": [
    "df[37040:37255]"
   ]
  },
  {
   "cell_type": "code",
   "execution_count": 20,
   "outputs": [
    {
     "data": {
      "text/plain": "      meta constituency                          name presense\n57019   32        NA-43         Mr. Noor-ul-Haq Qadri        A\n72108  136       NA-192  Sardar Muhammad Khan Laghari        A",
      "text/html": "<div>\n<style scoped>\n    .dataframe tbody tr th:only-of-type {\n        vertical-align: middle;\n    }\n\n    .dataframe tbody tr th {\n        vertical-align: top;\n    }\n\n    .dataframe thead th {\n        text-align: right;\n    }\n</style>\n<table border=\"1\" class=\"dataframe\">\n  <thead>\n    <tr style=\"text-align: right;\">\n      <th></th>\n      <th>meta</th>\n      <th>constituency</th>\n      <th>name</th>\n      <th>presense</th>\n    </tr>\n  </thead>\n  <tbody>\n    <tr>\n      <th>57019</th>\n      <td>32</td>\n      <td>NA-43</td>\n      <td>Mr. Noor-ul-Haq Qadri</td>\n      <td>A</td>\n    </tr>\n    <tr>\n      <th>72108</th>\n      <td>136</td>\n      <td>NA-192</td>\n      <td>Sardar Muhammad Khan Laghari</td>\n      <td>A</td>\n    </tr>\n  </tbody>\n</table>\n</div>"
     },
     "execution_count": 20,
     "metadata": {},
     "output_type": "execute_result"
    }
   ],
   "source": [
    "df.loc[(df['presense'] != 'P') & (df['presense'] != 'Status') &\n",
    "       (~pd.isna(df['presense'])) & (df['presense'] != 'Attendance')]"
   ],
   "metadata": {
    "collapsed": false,
    "pycharm": {
     "name": "#%%\n"
    }
   }
  },
  {
   "cell_type": "markdown",
   "id": "b42091ff",
   "metadata": {
    "papermill": {
     "duration": 0.017269,
     "end_time": "2022-07-16T06:49:53.128474",
     "exception": false,
     "start_time": "2022-07-16T06:49:53.111205",
     "status": "completed"
    },
    "tags": [],
    "pycharm": {
     "name": "#%% md\n"
    }
   },
   "source": [
    "# **Data Cleaning**"
   ]
  },
  {
   "cell_type": "markdown",
   "id": "546f205a",
   "metadata": {
    "papermill": {
     "duration": 0.015562,
     "end_time": "2022-07-16T06:49:53.160856",
     "exception": false,
     "start_time": "2022-07-16T06:49:53.145294",
     "status": "completed"
    },
    "tags": [],
    "pycharm": {
     "name": "#%% md\n"
    }
   },
   "source": [
    "Before applying any null drops, let's first segregate the sessions & joint sessions took place against each-\n",
    "Approach:\n",
    "1. We've first created new cols named 'session' & 'joint_session_number' against each occurance from cols[0] text\n",
    "2. Next, we're simply broadcasting the session numbers over their applicable range of data\n",
    "3. Lastly, dropping completely unnecessary rows\n",
    "\n",
    "**End result:** Our df has session & joint_session number populated against each record"
   ]
  },
  {
   "cell_type": "code",
   "execution_count": 21,
   "id": "6b857e2f",
   "metadata": {
    "execution": {
     "iopub.execute_input": "2022-07-16T06:49:53.197146Z",
     "iopub.status.busy": "2022-07-16T06:49:53.196784Z",
     "iopub.status.idle": "2022-07-16T06:49:53.501297Z",
     "shell.execute_reply": "2022-07-16T06:49:53.500081Z"
    },
    "papermill": {
     "duration": 0.325772,
     "end_time": "2022-07-16T06:49:53.503962",
     "exception": false,
     "start_time": "2022-07-16T06:49:53.178190",
     "status": "completed"
    },
    "tags": [],
    "pycharm": {
     "name": "#%%\n"
    }
   },
   "outputs": [
    {
     "name": "stderr",
     "output_type": "stream",
     "text": [
      "C:\\Users\\HP\\AppData\\Local\\Temp/ipykernel_20728/1797757456.py:1: UserWarning: This pattern has match groups. To actually get the groups, use str.extract.\n",
      "  df['session']= df[df[cols[0]].str.contains('(\\d)[a-z]+ Session|session', na=False, regex=True)][cols[0]].str.findall('(\\d+)').apply(session)\n",
      "C:\\Users\\HP\\AppData\\Local\\Temp/ipykernel_20728/1797757456.py:2: UserWarning: This pattern has match groups. To actually get the groups, use str.extract.\n",
      "  df['joint_session_number']=df[df[cols[0]].str.contains('(\\d)[a-z]+ joint|Joint', na=False, regex=True)][cols[0]].str.findall('(\\d+)').apply(session)\n"
     ]
    }
   ],
   "source": [
    "df['session']= df[df[cols[0]].str.contains('(\\d)[a-z]+ Session|session', na=False, regex=True)][cols[0]].str.findall('(\\d+)').apply(session)\n",
    "df['joint_session_number']=df[df[cols[0]].str.contains('(\\d)[a-z]+ joint|Joint', na=False, regex=True)][cols[0]].str.findall('(\\d+)').apply(session)\n"
   ]
  },
  {
   "cell_type": "code",
   "execution_count": 22,
   "id": "286f998b",
   "metadata": {
    "execution": {
     "iopub.execute_input": "2022-07-16T06:49:53.537813Z",
     "iopub.status.busy": "2022-07-16T06:49:53.537189Z",
     "iopub.status.idle": "2022-07-16T06:50:29.007948Z",
     "shell.execute_reply": "2022-07-16T06:50:29.006981Z"
    },
    "jupyter": {
     "source_hidden": true
    },
    "papermill": {
     "duration": 35.490635,
     "end_time": "2022-07-16T06:50:29.010670",
     "exception": false,
     "start_time": "2022-07-16T06:49:53.520035",
     "status": "completed"
    },
    "tags": [],
    "pycharm": {
     "name": "#%%\n"
    }
   },
   "outputs": [],
   "source": [
    "#Broadcasting\n",
    "df_copy= df.copy()\n",
    "df_copy_=df.copy()\n",
    "\n",
    "num='NaN'\n",
    "for i in df_copy.index:\n",
    "\n",
    "    if str(df_copy.iloc[i,5])=='nan':\n",
    "        if str(df_copy.iloc[i,4])=='nan':\n",
    "            df_copy.iloc[i,5]=num\n",
    "\n",
    "    if str(df_copy.iloc[i,5])!='nan':\n",
    "        num= str(df_copy.iloc[i,5])\n",
    "    else:\n",
    "        num='NaN'\n",
    "num='NaN'\n",
    "for i in df_copy_.index:\n",
    "\n",
    "    if str(df_copy_.iloc[i,4])=='nan':\n",
    "        if str(df_copy_.iloc[i,5])=='nan':\n",
    "            df_copy_.iloc[i,4]=num\n",
    "\n",
    "    if str(df_copy_.iloc[i,4])!='nan':\n",
    "        num= str(df_copy_.iloc[i,4])\n",
    "    else:\n",
    "        num='NaN'"
   ]
  },
  {
   "cell_type": "code",
   "execution_count": 23,
   "id": "6667a82b",
   "metadata": {
    "execution": {
     "iopub.execute_input": "2022-07-16T06:50:29.044738Z",
     "iopub.status.busy": "2022-07-16T06:50:29.044325Z",
     "iopub.status.idle": "2022-07-16T06:50:29.051386Z",
     "shell.execute_reply": "2022-07-16T06:50:29.050349Z"
    },
    "papermill": {
     "duration": 0.026599,
     "end_time": "2022-07-16T06:50:29.053633",
     "exception": false,
     "start_time": "2022-07-16T06:50:29.027034",
     "status": "completed"
    },
    "tags": [],
    "pycharm": {
     "name": "#%%\n"
    }
   },
   "outputs": [],
   "source": [
    "df['joint_session_number'] = df_copy['joint_session_number']\n",
    "df['session'] = df_copy_['session']"
   ]
  },
  {
   "cell_type": "code",
   "execution_count": 24,
   "id": "25459338",
   "metadata": {
    "execution": {
     "iopub.execute_input": "2022-07-16T06:50:29.087272Z",
     "iopub.status.busy": "2022-07-16T06:50:29.086856Z",
     "iopub.status.idle": "2022-07-16T06:50:29.178147Z",
     "shell.execute_reply": "2022-07-16T06:50:29.177027Z"
    },
    "papermill": {
     "duration": 0.111129,
     "end_time": "2022-07-16T06:50:29.180683",
     "exception": false,
     "start_time": "2022-07-16T06:50:29.069554",
     "status": "completed"
    },
    "tags": [],
    "pycharm": {
     "name": "#%%\n"
    }
   },
   "outputs": [
    {
     "name": "stderr",
     "output_type": "stream",
     "text": [
      "C:\\Users\\HP\\anaconda3\\lib\\site-packages\\pandas\\core\\generic.py:6619: SettingWithCopyWarning: \n",
      "A value is trying to be set on a copy of a slice from a DataFrame\n",
      "\n",
      "See the caveats in the documentation: https://pandas.pydata.org/pandas-docs/stable/user_guide/indexing.html#returning-a-view-versus-a-copy\n",
      "  return self._update_inplace(result)\n"
     ]
    }
   ],
   "source": [
    "df_= df[~(\n",
    "    (df[cols[2]].astype('str')=='nan') | #All members have their name populated; 'nan' represents metadata rows which we've extract already\n",
    "    ((df[cols[2]].astype('str')=='Name of Member')) | #This is recurrent field occuring throughout df b/c multiple df being concated implicitly\n",
    "    ((df[cols[3]].astype('str')=='nan')) |\n",
    "    ((df[cols[3]].astype('str')=='Status'))\n",
    ")]\n",
    "df_.reset_index(drop=True, inplace=True)\n",
    "\n",
    "#NaN session refers to no-applicable places\n",
    "df_['session'].replace(to_replace='NaN', value='0',inplace=True)\n",
    "df_['joint_session_number'].replace(to_replace='NaN', value='0',inplace=True)\n"
   ]
  },
  {
   "cell_type": "code",
   "execution_count": 25,
   "id": "72071d2a",
   "metadata": {
    "execution": {
     "iopub.execute_input": "2022-07-16T06:50:29.214423Z",
     "iopub.status.busy": "2022-07-16T06:50:29.214060Z",
     "iopub.status.idle": "2022-07-16T06:50:29.287128Z",
     "shell.execute_reply": "2022-07-16T06:50:29.285665Z"
    },
    "papermill": {
     "duration": 0.093041,
     "end_time": "2022-07-16T06:50:29.289650",
     "exception": false,
     "start_time": "2022-07-16T06:50:29.196609",
     "status": "completed"
    },
    "tags": [],
    "pycharm": {
     "name": "#%%\n"
    }
   },
   "outputs": [
    {
     "name": "stderr",
     "output_type": "stream",
     "text": [
      "C:\\Users\\HP\\AppData\\Local\\Temp/ipykernel_20728/3471191169.py:2: SettingWithCopyWarning: \n",
      "A value is trying to be set on a copy of a slice from a DataFrame.\n",
      "Try using .loc[row_indexer,col_indexer] = value instead\n",
      "\n",
      "See the caveats in the documentation: https://pandas.pydata.org/pandas-docs/stable/user_guide/indexing.html#returning-a-view-versus-a-copy\n",
      "  df_['is_contested']= np.where(\n"
     ]
    }
   ],
   "source": [
    "#The constituency could be either contested (NA marked) or Reserved Seat as per the NA. Hence, creating a boolean here for later exploration\n",
    "df_['is_contested']= np.where(\n",
    "    df_[df_.columns[1]].str.contains(\"NA|Constituency\", case=True)\n",
    "    ,1,0)"
   ]
  },
  {
   "cell_type": "code",
   "execution_count": 26,
   "id": "d992d6eb",
   "metadata": {
    "execution": {
     "iopub.execute_input": "2022-07-16T06:50:29.323430Z",
     "iopub.status.busy": "2022-07-16T06:50:29.323039Z",
     "iopub.status.idle": "2022-07-16T06:50:29.338561Z",
     "shell.execute_reply": "2022-07-16T06:50:29.337591Z"
    },
    "papermill": {
     "duration": 0.034633,
     "end_time": "2022-07-16T06:50:29.340433",
     "exception": false,
     "start_time": "2022-07-16T06:50:29.305800",
     "status": "completed"
    },
    "tags": [],
    "pycharm": {
     "name": "#%%\n"
    }
   },
   "outputs": [
    {
     "data": {
      "text/plain": "Reserved Seat     16972\nReserve Seat        458\nReserved Seats      130\nReserved seat       101\nReserved Seate       64\nReserve seat         58\nName: constituency, dtype: int64"
     },
     "execution_count": 26,
     "metadata": {},
     "output_type": "execute_result"
    }
   ],
   "source": [
    "#There are multiple spelling variations of reserved seats; creating a boolean out of it for ease\n",
    "df_[df_.is_contested==0][cols[1]].value_counts()"
   ]
  },
  {
   "cell_type": "code",
   "execution_count": 27,
   "id": "fe565119",
   "metadata": {
    "execution": {
     "iopub.execute_input": "2022-07-16T06:50:29.374236Z",
     "iopub.status.busy": "2022-07-16T06:50:29.373878Z",
     "iopub.status.idle": "2022-07-16T06:50:29.418821Z",
     "shell.execute_reply": "2022-07-16T06:50:29.417632Z"
    },
    "papermill": {
     "duration": 0.064711,
     "end_time": "2022-07-16T06:50:29.421211",
     "exception": false,
     "start_time": "2022-07-16T06:50:29.356500",
     "status": "completed"
    },
    "tags": [],
    "pycharm": {
     "name": "#%%\n"
    }
   },
   "outputs": [
    {
     "name": "stderr",
     "output_type": "stream",
     "text": [
      "C:\\Users\\HP\\AppData\\Local\\Temp/ipykernel_20728/2100122556.py:1: SettingWithCopyWarning: \n",
      "A value is trying to be set on a copy of a slice from a DataFrame.\n",
      "Try using .loc[row_indexer,col_indexer] = value instead\n",
      "\n",
      "See the caveats in the documentation: https://pandas.pydata.org/pandas-docs/stable/user_guide/indexing.html#returning-a-view-versus-a-copy\n",
      "  df_['is_reserved']= np.where(df_[cols[1]].str.contains(\"Reserv\", case=True, regex=True),1,0)\n"
     ]
    }
   ],
   "source": [
    "df_['is_reserved']= np.where(df_[cols[1]].str.contains(\"Reserv\", case=True, regex=True),1,0)"
   ]
  },
  {
   "cell_type": "code",
   "execution_count": 28,
   "id": "cc561eaf",
   "metadata": {
    "execution": {
     "iopub.execute_input": "2022-07-16T06:50:29.455918Z",
     "iopub.status.busy": "2022-07-16T06:50:29.455522Z",
     "iopub.status.idle": "2022-07-16T06:50:29.460915Z",
     "shell.execute_reply": "2022-07-16T06:50:29.459691Z"
    },
    "papermill": {
     "duration": 0.025676,
     "end_time": "2022-07-16T06:50:29.463166",
     "exception": false,
     "start_time": "2022-07-16T06:50:29.437490",
     "status": "completed"
    },
    "tags": [],
    "pycharm": {
     "name": "#%%\n"
    }
   },
   "outputs": [],
   "source": [
    "df_.columns= ['sr_no','constituency','name','presence','session_no', 'join_session_number','is_contested','is_reserved']"
   ]
  },
  {
   "cell_type": "markdown",
   "id": "0c9b87d6",
   "metadata": {
    "papermill": {
     "duration": 0.015974,
     "end_time": "2022-07-16T06:50:29.495350",
     "exception": false,
     "start_time": "2022-07-16T06:50:29.479376",
     "status": "completed"
    },
    "tags": [],
    "pycharm": {
     "name": "#%% md\n"
    }
   },
   "source": [
    "# # Cleaned data-\n",
    "\n",
    "We've cleaned data of session 1-43 & Joint session 1-11 in \"df_\"\n",
    "\n",
    "For places where session_no & join_session_number is 0, it means that record is insig for particular choice of session"
   ]
  },
  {
   "cell_type": "markdown",
   "id": "fc8c7fec",
   "metadata": {
    "papermill": {
     "duration": 0.015653,
     "end_time": "2022-07-16T06:50:29.527068",
     "exception": false,
     "start_time": "2022-07-16T06:50:29.511415",
     "status": "completed"
    },
    "tags": [],
    "pycharm": {
     "name": "#%% md\n"
    }
   },
   "source": [
    "# <div style=\"font-family: Trebuchet MS; background-color: #000099; color: #FFFFFF; padding: 12px; line-height: 1;\">Secondary Data Import </div>\n",
    "1. Importing dataset\n",
    "2. Cleaning for areas of constituencies\n",
    "3. Merging current data with last cleaned data for final version"
   ]
  },
  {
   "cell_type": "code",
   "execution_count": 29,
   "id": "ddd17d41",
   "metadata": {
    "execution": {
     "iopub.execute_input": "2022-07-16T06:50:29.561023Z",
     "iopub.status.busy": "2022-07-16T06:50:29.560658Z",
     "iopub.status.idle": "2022-07-16T06:50:29.809819Z",
     "shell.execute_reply": "2022-07-16T06:50:29.808749Z"
    },
    "papermill": {
     "duration": 0.269104,
     "end_time": "2022-07-16T06:50:29.812236",
     "exception": false,
     "start_time": "2022-07-16T06:50:29.543132",
     "status": "completed"
    },
    "tags": [],
    "pycharm": {
     "name": "#%%\n"
    }
   },
   "outputs": [
    {
     "ename": "FileNotFoundError",
     "evalue": "[Errno 2] No such file or directory: '../input/pk-constituencies-data/PK constituencies.xlsx'",
     "output_type": "error",
     "traceback": [
      "\u001B[1;31m---------------------------------------------------------------------------\u001B[0m",
      "\u001B[1;31mFileNotFoundError\u001B[0m                         Traceback (most recent call last)",
      "\u001B[1;32m~\\AppData\\Local\\Temp/ipykernel_20728/3372401288.py\u001B[0m in \u001B[0;36m<module>\u001B[1;34m\u001B[0m\n\u001B[1;32m----> 1\u001B[1;33m \u001B[0mdf_3\u001B[0m\u001B[1;33m=\u001B[0m \u001B[0mpd\u001B[0m\u001B[1;33m.\u001B[0m\u001B[0mread_excel\u001B[0m\u001B[1;33m(\u001B[0m\u001B[1;34m'../input/pk-constituencies-data/PK constituencies.xlsx'\u001B[0m\u001B[1;33m)\u001B[0m\u001B[1;33m\u001B[0m\u001B[1;33m\u001B[0m\u001B[0m\n\u001B[0m",
      "\u001B[1;32m~\\anaconda3\\lib\\site-packages\\pandas\\util\\_decorators.py\u001B[0m in \u001B[0;36mwrapper\u001B[1;34m(*args, **kwargs)\u001B[0m\n\u001B[0;32m    309\u001B[0m                     \u001B[0mstacklevel\u001B[0m\u001B[1;33m=\u001B[0m\u001B[0mstacklevel\u001B[0m\u001B[1;33m,\u001B[0m\u001B[1;33m\u001B[0m\u001B[1;33m\u001B[0m\u001B[0m\n\u001B[0;32m    310\u001B[0m                 )\n\u001B[1;32m--> 311\u001B[1;33m             \u001B[1;32mreturn\u001B[0m \u001B[0mfunc\u001B[0m\u001B[1;33m(\u001B[0m\u001B[1;33m*\u001B[0m\u001B[0margs\u001B[0m\u001B[1;33m,\u001B[0m \u001B[1;33m**\u001B[0m\u001B[0mkwargs\u001B[0m\u001B[1;33m)\u001B[0m\u001B[1;33m\u001B[0m\u001B[1;33m\u001B[0m\u001B[0m\n\u001B[0m\u001B[0;32m    312\u001B[0m \u001B[1;33m\u001B[0m\u001B[0m\n\u001B[0;32m    313\u001B[0m         \u001B[1;32mreturn\u001B[0m \u001B[0mwrapper\u001B[0m\u001B[1;33m\u001B[0m\u001B[1;33m\u001B[0m\u001B[0m\n",
      "\u001B[1;32m~\\anaconda3\\lib\\site-packages\\pandas\\io\\excel\\_base.py\u001B[0m in \u001B[0;36mread_excel\u001B[1;34m(io, sheet_name, header, names, index_col, usecols, squeeze, dtype, engine, converters, true_values, false_values, skiprows, nrows, na_values, keep_default_na, na_filter, verbose, parse_dates, date_parser, thousands, comment, skipfooter, convert_float, mangle_dupe_cols, storage_options)\u001B[0m\n\u001B[0;32m    362\u001B[0m     \u001B[1;32mif\u001B[0m \u001B[1;32mnot\u001B[0m \u001B[0misinstance\u001B[0m\u001B[1;33m(\u001B[0m\u001B[0mio\u001B[0m\u001B[1;33m,\u001B[0m \u001B[0mExcelFile\u001B[0m\u001B[1;33m)\u001B[0m\u001B[1;33m:\u001B[0m\u001B[1;33m\u001B[0m\u001B[1;33m\u001B[0m\u001B[0m\n\u001B[0;32m    363\u001B[0m         \u001B[0mshould_close\u001B[0m \u001B[1;33m=\u001B[0m \u001B[1;32mTrue\u001B[0m\u001B[1;33m\u001B[0m\u001B[1;33m\u001B[0m\u001B[0m\n\u001B[1;32m--> 364\u001B[1;33m         \u001B[0mio\u001B[0m \u001B[1;33m=\u001B[0m \u001B[0mExcelFile\u001B[0m\u001B[1;33m(\u001B[0m\u001B[0mio\u001B[0m\u001B[1;33m,\u001B[0m \u001B[0mstorage_options\u001B[0m\u001B[1;33m=\u001B[0m\u001B[0mstorage_options\u001B[0m\u001B[1;33m,\u001B[0m \u001B[0mengine\u001B[0m\u001B[1;33m=\u001B[0m\u001B[0mengine\u001B[0m\u001B[1;33m)\u001B[0m\u001B[1;33m\u001B[0m\u001B[1;33m\u001B[0m\u001B[0m\n\u001B[0m\u001B[0;32m    365\u001B[0m     \u001B[1;32melif\u001B[0m \u001B[0mengine\u001B[0m \u001B[1;32mand\u001B[0m \u001B[0mengine\u001B[0m \u001B[1;33m!=\u001B[0m \u001B[0mio\u001B[0m\u001B[1;33m.\u001B[0m\u001B[0mengine\u001B[0m\u001B[1;33m:\u001B[0m\u001B[1;33m\u001B[0m\u001B[1;33m\u001B[0m\u001B[0m\n\u001B[0;32m    366\u001B[0m         raise ValueError(\n",
      "\u001B[1;32m~\\anaconda3\\lib\\site-packages\\pandas\\io\\excel\\_base.py\u001B[0m in \u001B[0;36m__init__\u001B[1;34m(self, path_or_buffer, engine, storage_options)\u001B[0m\n\u001B[0;32m   1189\u001B[0m                 \u001B[0mext\u001B[0m \u001B[1;33m=\u001B[0m \u001B[1;34m\"xls\"\u001B[0m\u001B[1;33m\u001B[0m\u001B[1;33m\u001B[0m\u001B[0m\n\u001B[0;32m   1190\u001B[0m             \u001B[1;32melse\u001B[0m\u001B[1;33m:\u001B[0m\u001B[1;33m\u001B[0m\u001B[1;33m\u001B[0m\u001B[0m\n\u001B[1;32m-> 1191\u001B[1;33m                 ext = inspect_excel_format(\n\u001B[0m\u001B[0;32m   1192\u001B[0m                     \u001B[0mcontent_or_path\u001B[0m\u001B[1;33m=\u001B[0m\u001B[0mpath_or_buffer\u001B[0m\u001B[1;33m,\u001B[0m \u001B[0mstorage_options\u001B[0m\u001B[1;33m=\u001B[0m\u001B[0mstorage_options\u001B[0m\u001B[1;33m\u001B[0m\u001B[1;33m\u001B[0m\u001B[0m\n\u001B[0;32m   1193\u001B[0m                 )\n",
      "\u001B[1;32m~\\anaconda3\\lib\\site-packages\\pandas\\io\\excel\\_base.py\u001B[0m in \u001B[0;36minspect_excel_format\u001B[1;34m(content_or_path, storage_options)\u001B[0m\n\u001B[0;32m   1068\u001B[0m         \u001B[0mcontent_or_path\u001B[0m \u001B[1;33m=\u001B[0m \u001B[0mBytesIO\u001B[0m\u001B[1;33m(\u001B[0m\u001B[0mcontent_or_path\u001B[0m\u001B[1;33m)\u001B[0m\u001B[1;33m\u001B[0m\u001B[1;33m\u001B[0m\u001B[0m\n\u001B[0;32m   1069\u001B[0m \u001B[1;33m\u001B[0m\u001B[0m\n\u001B[1;32m-> 1070\u001B[1;33m     with get_handle(\n\u001B[0m\u001B[0;32m   1071\u001B[0m         \u001B[0mcontent_or_path\u001B[0m\u001B[1;33m,\u001B[0m \u001B[1;34m\"rb\"\u001B[0m\u001B[1;33m,\u001B[0m \u001B[0mstorage_options\u001B[0m\u001B[1;33m=\u001B[0m\u001B[0mstorage_options\u001B[0m\u001B[1;33m,\u001B[0m \u001B[0mis_text\u001B[0m\u001B[1;33m=\u001B[0m\u001B[1;32mFalse\u001B[0m\u001B[1;33m\u001B[0m\u001B[1;33m\u001B[0m\u001B[0m\n\u001B[0;32m   1072\u001B[0m     ) as handle:\n",
      "\u001B[1;32m~\\anaconda3\\lib\\site-packages\\pandas\\io\\common.py\u001B[0m in \u001B[0;36mget_handle\u001B[1;34m(path_or_buf, mode, encoding, compression, memory_map, is_text, errors, storage_options)\u001B[0m\n\u001B[0;32m    709\u001B[0m         \u001B[1;32melse\u001B[0m\u001B[1;33m:\u001B[0m\u001B[1;33m\u001B[0m\u001B[1;33m\u001B[0m\u001B[0m\n\u001B[0;32m    710\u001B[0m             \u001B[1;31m# Binary mode\u001B[0m\u001B[1;33m\u001B[0m\u001B[1;33m\u001B[0m\u001B[0m\n\u001B[1;32m--> 711\u001B[1;33m             \u001B[0mhandle\u001B[0m \u001B[1;33m=\u001B[0m \u001B[0mopen\u001B[0m\u001B[1;33m(\u001B[0m\u001B[0mhandle\u001B[0m\u001B[1;33m,\u001B[0m \u001B[0mioargs\u001B[0m\u001B[1;33m.\u001B[0m\u001B[0mmode\u001B[0m\u001B[1;33m)\u001B[0m\u001B[1;33m\u001B[0m\u001B[1;33m\u001B[0m\u001B[0m\n\u001B[0m\u001B[0;32m    712\u001B[0m         \u001B[0mhandles\u001B[0m\u001B[1;33m.\u001B[0m\u001B[0mappend\u001B[0m\u001B[1;33m(\u001B[0m\u001B[0mhandle\u001B[0m\u001B[1;33m)\u001B[0m\u001B[1;33m\u001B[0m\u001B[1;33m\u001B[0m\u001B[0m\n\u001B[0;32m    713\u001B[0m \u001B[1;33m\u001B[0m\u001B[0m\n",
      "\u001B[1;31mFileNotFoundError\u001B[0m: [Errno 2] No such file or directory: '../input/pk-constituencies-data/PK constituencies.xlsx'"
     ]
    }
   ],
   "source": [
    "df_3= pd.read_excel('../input/pk-constituencies-data/PK constituencies.xlsx')"
   ]
  },
  {
   "cell_type": "code",
   "execution_count": null,
   "id": "cb98243e",
   "metadata": {
    "execution": {
     "iopub.execute_input": "2022-07-16T06:50:29.847102Z",
     "iopub.status.busy": "2022-07-16T06:50:29.846282Z",
     "iopub.status.idle": "2022-07-16T06:50:29.894172Z",
     "shell.execute_reply": "2022-07-16T06:50:29.893314Z"
    },
    "papermill": {
     "duration": 0.068074,
     "end_time": "2022-07-16T06:50:29.896582",
     "exception": false,
     "start_time": "2022-07-16T06:50:29.828508",
     "status": "completed"
    },
    "tags": [],
    "pycharm": {
     "name": "#%%\n"
    }
   },
   "outputs": [],
   "source": [
    "area=[]\n",
    "for i in df_3.index:\n",
    "    a=re.findall(r'NA-\\d*|,|([a-zA-Z0-9- ]*)',df_3.iloc[i].Constituency)\n",
    "    a.sort(reverse=True)\n",
    "    area.append(a[0])\n",
    "\n",
    "const=[]\n",
    "for i in df_3.index:\n",
    "    a=re.findall(r'NA-\\d*',df_3.iloc[i].Constituency)\n",
    "    a.sort(reverse=True)\n",
    "    const.append(a[0])\n"
   ]
  },
  {
   "cell_type": "code",
   "execution_count": null,
   "id": "f4198ae4",
   "metadata": {
    "execution": {
     "iopub.execute_input": "2022-07-16T06:50:29.931499Z",
     "iopub.status.busy": "2022-07-16T06:50:29.930782Z",
     "iopub.status.idle": "2022-07-16T06:50:29.936085Z",
     "shell.execute_reply": "2022-07-16T06:50:29.935306Z"
    },
    "papermill": {
     "duration": 0.025257,
     "end_time": "2022-07-16T06:50:29.938170",
     "exception": false,
     "start_time": "2022-07-16T06:50:29.912913",
     "status": "completed"
    },
    "tags": [],
    "pycharm": {
     "name": "#%%\n"
    }
   },
   "outputs": [],
   "source": [
    "df_3['Area']=area\n",
    "df_3['const']= const"
   ]
  },
  {
   "cell_type": "code",
   "execution_count": null,
   "id": "369d695a",
   "metadata": {
    "execution": {
     "iopub.execute_input": "2022-07-16T06:50:29.972989Z",
     "iopub.status.busy": "2022-07-16T06:50:29.972368Z",
     "iopub.status.idle": "2022-07-16T06:50:29.985570Z",
     "shell.execute_reply": "2022-07-16T06:50:29.984568Z"
    },
    "papermill": {
     "duration": 0.033364,
     "end_time": "2022-07-16T06:50:29.987781",
     "exception": false,
     "start_time": "2022-07-16T06:50:29.954417",
     "status": "completed"
    },
    "tags": [],
    "pycharm": {
     "name": "#%%\n"
    }
   },
   "outputs": [],
   "source": [
    "df_3.rename(columns={'City': 'province', 'Area':'area'}, inplace=True)\n",
    "df_3.head()"
   ]
  },
  {
   "cell_type": "code",
   "execution_count": null,
   "id": "7c03faae",
   "metadata": {
    "execution": {
     "iopub.execute_input": "2022-07-16T06:50:30.022909Z",
     "iopub.status.busy": "2022-07-16T06:50:30.022559Z",
     "iopub.status.idle": "2022-07-16T06:50:30.036886Z",
     "shell.execute_reply": "2022-07-16T06:50:30.035832Z"
    },
    "papermill": {
     "duration": 0.034628,
     "end_time": "2022-07-16T06:50:30.038960",
     "exception": false,
     "start_time": "2022-07-16T06:50:30.004332",
     "status": "completed"
    },
    "tags": [],
    "pycharm": {
     "name": "#%%\n"
    }
   },
   "outputs": [],
   "source": [
    "df_.head()"
   ]
  },
  {
   "cell_type": "code",
   "execution_count": null,
   "id": "64ae2ed1",
   "metadata": {
    "execution": {
     "iopub.execute_input": "2022-07-16T06:50:30.074356Z",
     "iopub.status.busy": "2022-07-16T06:50:30.073968Z",
     "iopub.status.idle": "2022-07-16T06:50:30.110226Z",
     "shell.execute_reply": "2022-07-16T06:50:30.108891Z"
    },
    "papermill": {
     "duration": 0.056867,
     "end_time": "2022-07-16T06:50:30.112705",
     "exception": false,
     "start_time": "2022-07-16T06:50:30.055838",
     "status": "completed"
    },
    "tags": [],
    "pycharm": {
     "name": "#%%\n"
    }
   },
   "outputs": [],
   "source": [
    "df__= pd.merge(df_,df_3, how='left', left_on='constituency', right_on='const')"
   ]
  },
  {
   "cell_type": "code",
   "execution_count": null,
   "id": "155d4be2",
   "metadata": {
    "execution": {
     "iopub.execute_input": "2022-07-16T06:50:30.148564Z",
     "iopub.status.busy": "2022-07-16T06:50:30.148159Z",
     "iopub.status.idle": "2022-07-16T06:50:30.165638Z",
     "shell.execute_reply": "2022-07-16T06:50:30.164572Z"
    },
    "papermill": {
     "duration": 0.038409,
     "end_time": "2022-07-16T06:50:30.167886",
     "exception": false,
     "start_time": "2022-07-16T06:50:30.129477",
     "status": "completed"
    },
    "tags": [],
    "pycharm": {
     "name": "#%%\n"
    }
   },
   "outputs": [],
   "source": [
    "df__.head()"
   ]
  },
  {
   "cell_type": "code",
   "execution_count": null,
   "id": "e0cfd7c9",
   "metadata": {
    "execution": {
     "iopub.execute_input": "2022-07-16T06:50:30.203568Z",
     "iopub.status.busy": "2022-07-16T06:50:30.203161Z",
     "iopub.status.idle": "2022-07-16T06:50:30.234334Z",
     "shell.execute_reply": "2022-07-16T06:50:30.233099Z"
    },
    "papermill": {
     "duration": 0.052254,
     "end_time": "2022-07-16T06:50:30.237106",
     "exception": false,
     "start_time": "2022-07-16T06:50:30.184852",
     "status": "completed"
    },
    "tags": [],
    "pycharm": {
     "name": "#%%\n"
    }
   },
   "outputs": [],
   "source": [
    "final_features= ['constituency','province','area','name','session_no','join_session_number','is_contested','is_reserved']\n",
    "df_final= df__[final_features]"
   ]
  },
  {
   "cell_type": "markdown",
   "id": "8dd030c7",
   "metadata": {
    "papermill": {
     "duration": 0.016441,
     "end_time": "2022-07-16T06:50:30.270394",
     "exception": false,
     "start_time": "2022-07-16T06:50:30.253953",
     "status": "completed"
    },
    "tags": [],
    "pycharm": {
     "name": "#%% md\n"
    }
   },
   "source": [
    "# <div style=\"font-family: Trebuchet MS; background-color: #666699; color: #FFFFFF; padding: 12px; line-height: 1.5;\">Final Dataframe </div>"
   ]
  },
  {
   "cell_type": "code",
   "execution_count": null,
   "id": "bfaf2490",
   "metadata": {
    "execution": {
     "iopub.execute_input": "2022-07-16T06:50:30.305794Z",
     "iopub.status.busy": "2022-07-16T06:50:30.305379Z",
     "iopub.status.idle": "2022-07-16T06:50:30.322495Z",
     "shell.execute_reply": "2022-07-16T06:50:30.321374Z"
    },
    "papermill": {
     "duration": 0.037522,
     "end_time": "2022-07-16T06:50:30.324735",
     "exception": false,
     "start_time": "2022-07-16T06:50:30.287213",
     "status": "completed"
    },
    "tags": [],
    "pycharm": {
     "name": "#%%\n"
    }
   },
   "outputs": [],
   "source": [
    "df_final"
   ]
  },
  {
   "cell_type": "markdown",
   "id": "310fd534",
   "metadata": {
    "papermill": {
     "duration": 0.017469,
     "end_time": "2022-07-16T06:50:30.359217",
     "exception": false,
     "start_time": "2022-07-16T06:50:30.341748",
     "status": "completed"
    },
    "tags": [],
    "pycharm": {
     "name": "#%% md\n"
    }
   },
   "source": [
    "# <div style=\"font-family: Trebuchet MS; background-color: #000099; color: #FFFFFF; padding: 12px; line-height: 1;\">Exploration </div>\n",
    "1. Session & Joint Session wise distribution of attendance\n",
    "2. Top & Under represented areas in each city"
   ]
  },
  {
   "cell_type": "code",
   "execution_count": null,
   "id": "69289328",
   "metadata": {
    "execution": {
     "iopub.execute_input": "2022-07-16T06:50:30.395454Z",
     "iopub.status.busy": "2022-07-16T06:50:30.394684Z",
     "iopub.status.idle": "2022-07-16T06:50:30.502137Z",
     "shell.execute_reply": "2022-07-16T06:50:30.501022Z"
    },
    "papermill": {
     "duration": 0.128589,
     "end_time": "2022-07-16T06:50:30.504838",
     "exception": false,
     "start_time": "2022-07-16T06:50:30.376249",
     "status": "completed"
    },
    "tags": [],
    "pycharm": {
     "name": "#%%\n"
    }
   },
   "outputs": [],
   "source": [
    "\"\"\"\n",
    "Grouping for session wise cumilative strength\n",
    "\"\"\"\n",
    "\n",
    "session_province_attendance= df_final[\n",
    "    (df_final.session_no!='0') #=0 are places with joint session\n",
    "].groupby(['session_no','province']).count()['name'].reset_index()\n",
    "\n",
    "session_province_attendance.session_no= session_province_attendance.session_no.astype(int)\n",
    "session_province_attendance.sort_values('session_no').reset_index()\n",
    "\n",
    "\n",
    "joint_session_province_attendance= df_final[\n",
    "    (df_final.join_session_number!='0')\n",
    "].groupby(['join_session_number','province']).count()['name'].reset_index()\n",
    "\n",
    "joint_session_province_attendance.join_session_number= joint_session_province_attendance.join_session_number.astype(int)\n",
    "joint_session_province_attendance.sort_values('join_session_number').reset_index()\n",
    "joint_session_province_attendance.head()"
   ]
  },
  {
   "cell_type": "code",
   "execution_count": null,
   "id": "b35c486f",
   "metadata": {
    "execution": {
     "iopub.execute_input": "2022-07-16T06:50:30.542121Z",
     "iopub.status.busy": "2022-07-16T06:50:30.541157Z",
     "iopub.status.idle": "2022-07-16T06:50:30.551866Z",
     "shell.execute_reply": "2022-07-16T06:50:30.550888Z"
    },
    "papermill": {
     "duration": 0.031818,
     "end_time": "2022-07-16T06:50:30.554150",
     "exception": false,
     "start_time": "2022-07-16T06:50:30.522332",
     "status": "completed"
    },
    "tags": [],
    "pycharm": {
     "name": "#%%\n"
    }
   },
   "outputs": [],
   "source": [
    "session_province_attendance.sort_values('session_no')\n",
    "session_province_attendance.head()"
   ]
  },
  {
   "cell_type": "code",
   "execution_count": null,
   "id": "7df754a9",
   "metadata": {
    "execution": {
     "iopub.execute_input": "2022-07-16T06:50:30.591418Z",
     "iopub.status.busy": "2022-07-16T06:50:30.591016Z",
     "iopub.status.idle": "2022-07-16T06:50:30.622352Z",
     "shell.execute_reply": "2022-07-16T06:50:30.621389Z"
    },
    "jupyter": {
     "source_hidden": true
    },
    "papermill": {
     "duration": 0.052935,
     "end_time": "2022-07-16T06:50:30.624763",
     "exception": false,
     "start_time": "2022-07-16T06:50:30.571828",
     "status": "completed"
    },
    "tags": [],
    "pycharm": {
     "name": "#%%\n"
    }
   },
   "outputs": [],
   "source": [
    "import plotly\n",
    "plotly.offline.init_notebook_mode (connected = True)"
   ]
  },
  {
   "cell_type": "code",
   "execution_count": null,
   "id": "2c7a4ec8",
   "metadata": {
    "execution": {
     "iopub.execute_input": "2022-07-16T06:50:30.662814Z",
     "iopub.status.busy": "2022-07-16T06:50:30.662183Z",
     "iopub.status.idle": "2022-07-16T06:50:31.756244Z",
     "shell.execute_reply": "2022-07-16T06:50:31.754970Z"
    },
    "papermill": {
     "duration": 1.117617,
     "end_time": "2022-07-16T06:50:31.760368",
     "exception": false,
     "start_time": "2022-07-16T06:50:30.642751",
     "status": "completed"
    },
    "tags": [],
    "pycharm": {
     "name": "#%%\n"
    }
   },
   "outputs": [],
   "source": [
    "px.bar(session_province_attendance, y='session_no', x='name',color='province',orientation='h',\n",
    "      labels={\n",
    "                     \"session_no\": \"Session Number\",\n",
    "                     \"name\": \"Count of Members Present\",\n",
    "                 },\n",
    "                title=\"Strength of presence in all sittings of a NA session (Post 2018)\"\n",
    "      )"
   ]
  },
  {
   "cell_type": "code",
   "execution_count": null,
   "id": "8b831d56",
   "metadata": {
    "execution": {
     "iopub.execute_input": "2022-07-16T06:50:31.812579Z",
     "iopub.status.busy": "2022-07-16T06:50:31.811812Z",
     "iopub.status.idle": "2022-07-16T06:50:31.885069Z",
     "shell.execute_reply": "2022-07-16T06:50:31.883894Z"
    },
    "papermill": {
     "duration": 0.102891,
     "end_time": "2022-07-16T06:50:31.888567",
     "exception": false,
     "start_time": "2022-07-16T06:50:31.785676",
     "status": "completed"
    },
    "tags": [],
    "pycharm": {
     "name": "#%%\n"
    }
   },
   "outputs": [],
   "source": [
    "fig=px.bar(joint_session_province_attendance, y='join_session_number', x='name',color='province',orientation='h',\n",
    "      labels={\n",
    "                     \"join_session_number\": \"Joint Session Number\",\n",
    "                     \"name\": \"Count of Members Present\",\n",
    "                 },\n",
    "                title=\"Strength of presence in all sittings of a NA joint session (Post 2018)\"\n",
    "      )\n",
    "fig.show()"
   ]
  },
  {
   "cell_type": "markdown",
   "id": "be0167db",
   "metadata": {
    "execution": {
     "iopub.execute_input": "2022-07-16T04:23:57.897024Z",
     "iopub.status.busy": "2022-07-16T04:23:57.896591Z",
     "iopub.status.idle": "2022-07-16T04:23:57.901538Z",
     "shell.execute_reply": "2022-07-16T04:23:57.900556Z",
     "shell.execute_reply.started": "2022-07-16T04:23:57.896989Z"
    },
    "papermill": {
     "duration": 0.031311,
     "end_time": "2022-07-16T06:50:31.952502",
     "exception": false,
     "start_time": "2022-07-16T06:50:31.921191",
     "status": "completed"
    },
    "tags": [],
    "pycharm": {
     "name": "#%% md\n"
    }
   },
   "source": [
    "# <div style=\"font-family: Trebuchet MS; background-color: #666699; color: #FFFFFF; padding: 12px; line-height: 1.5;\">Observations on above bar charts of session strength </div>\n",
    "\n",
    "1. In normal sessions, there seems to be no significant trend over how the strength of presense is varying. A more operational context here could help (looking for your comments on this). For example- **Post 28 session, it was a period of Mar-22 where multiple members were refraining to be present in NA given the no-confidence motion against PK PM Imran Khan**\n",
    "\n",
    "2. The variations of strength in normal session is much greater than much stable variation in joint session's strength"
   ]
  },
  {
   "cell_type": "code",
   "execution_count": null,
   "id": "0dc778e4",
   "metadata": {
    "execution": {
     "iopub.execute_input": "2022-07-16T06:50:32.018741Z",
     "iopub.status.busy": "2022-07-16T06:50:32.017873Z",
     "iopub.status.idle": "2022-07-16T06:50:32.034683Z",
     "shell.execute_reply": "2022-07-16T06:50:32.033608Z"
    },
    "papermill": {
     "duration": 0.052629,
     "end_time": "2022-07-16T06:50:32.036916",
     "exception": false,
     "start_time": "2022-07-16T06:50:31.984287",
     "status": "completed"
    },
    "tags": [],
    "pycharm": {
     "name": "#%%\n"
    }
   },
   "outputs": [],
   "source": [
    "df_final"
   ]
  },
  {
   "cell_type": "code",
   "execution_count": null,
   "id": "a4796a04",
   "metadata": {
    "execution": {
     "iopub.execute_input": "2022-07-16T06:50:32.102736Z",
     "iopub.status.busy": "2022-07-16T06:50:32.102332Z",
     "iopub.status.idle": "2022-07-16T06:50:32.210621Z",
     "shell.execute_reply": "2022-07-16T06:50:32.209302Z"
    },
    "papermill": {
     "duration": 0.144334,
     "end_time": "2022-07-16T06:50:32.213140",
     "exception": false,
     "start_time": "2022-07-16T06:50:32.068806",
     "status": "completed"
    },
    "tags": [],
    "pycharm": {
     "name": "#%%\n"
    }
   },
   "outputs": [],
   "source": [
    "session_area_attendance= df_final[\n",
    "    (df_final.session_no!='0')\n",
    "].groupby(['province','area']).count()['name'].reset_index()\n",
    "\n",
    "session_area_attendance.sort_values('name',ascending=False).reset_index().head()\n",
    "\n",
    "\n",
    "joint_session_area_attendance= df_final[\n",
    "    (df_final.join_session_number!='0')\n",
    "].groupby(['province','area']).count()['name'].reset_index()\n",
    "\n",
    "\n",
    "joint_session_area_attendance.sort_values('name', ascending=False).reset_index().head()"
   ]
  },
  {
   "cell_type": "markdown",
   "id": "265c0659",
   "metadata": {
    "papermill": {
     "duration": 0.03189,
     "end_time": "2022-07-16T06:50:32.277840",
     "exception": false,
     "start_time": "2022-07-16T06:50:32.245950",
     "status": "completed"
    },
    "tags": [],
    "pycharm": {
     "name": "#%% md\n"
    }
   },
   "source": [
    "# <div style=\"font-family: Trebuchet MS; background-color: #666699; color: #FFFFFF; padding: 12px; line-height: 1.5;\">Performance of you MNA </div>\n",
    "\n",
    "If we assume that attendance of an MNA in the sessions of NA is an indicator of performance, then a distribution of how the presense looks like in all sessions post 2018 could be good view.\n",
    "Although we could look the visual with MNA name, but for understanding, we're going to plot **Name of Contituency Area** (Ex: Karachi East I) and **Count of its MNA's presence** as bar chart.\n",
    "\n",
    "Below, we've given province wise distribution sorted in desc order where first bar is the top performer (vice versa for last bar)."
   ]
  },
  {
   "cell_type": "code",
   "execution_count": null,
   "id": "6e4c7559",
   "metadata": {
    "execution": {
     "iopub.execute_input": "2022-07-16T06:50:32.344439Z",
     "iopub.status.busy": "2022-07-16T06:50:32.343766Z",
     "iopub.status.idle": "2022-07-16T06:50:33.427900Z",
     "shell.execute_reply": "2022-07-16T06:50:33.426686Z"
    },
    "papermill": {
     "duration": 1.119987,
     "end_time": "2022-07-16T06:50:33.430086",
     "exception": false,
     "start_time": "2022-07-16T06:50:32.310099",
     "status": "completed"
    },
    "tags": [],
    "pycharm": {
     "name": "#%%\n"
    }
   },
   "outputs": [],
   "source": [
    "plt.figure(figsize=(10,20))\n",
    "plt.title(\"Sindh\")\n",
    "fig=sns.barplot(data=session_area_attendance[session_area_attendance.province=='Sindh'].sort_values('name', ascending=False),\n",
    "    y=\"area\", x=\"name\")\n",
    "\n",
    "fig.set(xlabel='Total count of presense', ylabel='Name of constituency')\n",
    "fig;"
   ]
  },
  {
   "cell_type": "code",
   "execution_count": null,
   "id": "9b1bbb14",
   "metadata": {
    "execution": {
     "iopub.execute_input": "2022-07-16T06:50:33.499613Z",
     "iopub.status.busy": "2022-07-16T06:50:33.498890Z",
     "iopub.status.idle": "2022-07-16T06:50:35.789303Z",
     "shell.execute_reply": "2022-07-16T06:50:35.787823Z"
    },
    "papermill": {
     "duration": 2.327645,
     "end_time": "2022-07-16T06:50:35.791643",
     "exception": false,
     "start_time": "2022-07-16T06:50:33.463998",
     "status": "completed"
    },
    "tags": [],
    "pycharm": {
     "name": "#%%\n"
    }
   },
   "outputs": [],
   "source": [
    "plt.figure(figsize=(10,40))\n",
    "plt.title(\"Punjab\")\n",
    "fig=sns.barplot(data=session_area_attendance[session_area_attendance.province=='Punjab'].sort_values('name', ascending=False),\n",
    "    y=\"area\", x=\"name\")\n",
    "\n",
    "\n",
    "fig.set(xlabel='Total count of presense', ylabel='Name of constituency')\n",
    "fig;"
   ]
  },
  {
   "cell_type": "code",
   "execution_count": null,
   "id": "37c023a8",
   "metadata": {
    "execution": {
     "iopub.execute_input": "2022-07-16T06:50:35.867489Z",
     "iopub.status.busy": "2022-07-16T06:50:35.867087Z",
     "iopub.status.idle": "2022-07-16T06:50:36.201969Z",
     "shell.execute_reply": "2022-07-16T06:50:36.200846Z"
    },
    "papermill": {
     "duration": 0.375458,
     "end_time": "2022-07-16T06:50:36.204296",
     "exception": false,
     "start_time": "2022-07-16T06:50:35.828838",
     "status": "completed"
    },
    "tags": [],
    "pycharm": {
     "name": "#%%\n"
    }
   },
   "outputs": [],
   "source": [
    "plt.figure(figsize=(10,10))\n",
    "plt.title(\"Balochistan\")\n",
    "fig=sns.barplot(data=session_area_attendance[session_area_attendance.province=='Balochistan'].sort_values('name', ascending=False),\n",
    "    y=\"area\", x=\"name\")\n",
    "\n",
    "\n",
    "fig.set(xlabel='Total count of presense', ylabel='Name of constituency')\n",
    "fig;"
   ]
  },
  {
   "cell_type": "code",
   "execution_count": null,
   "id": "e285febd",
   "metadata": {
    "execution": {
     "iopub.execute_input": "2022-07-16T06:50:36.279174Z",
     "iopub.status.busy": "2022-07-16T06:50:36.278422Z",
     "iopub.status.idle": "2022-07-16T06:50:37.174458Z",
     "shell.execute_reply": "2022-07-16T06:50:37.173062Z"
    },
    "papermill": {
     "duration": 0.936091,
     "end_time": "2022-07-16T06:50:37.176869",
     "exception": false,
     "start_time": "2022-07-16T06:50:36.240778",
     "status": "completed"
    },
    "tags": [],
    "pycharm": {
     "name": "#%%\n"
    }
   },
   "outputs": [],
   "source": [
    "plt.figure(figsize=(10,20))\n",
    "plt.title(\"KPK\")\n",
    "fig=sns.barplot(data=session_area_attendance[session_area_attendance.province=='KPK'].sort_values('name', ascending=False),\n",
    "    y=\"area\", x=\"name\")\n",
    "\n",
    "\n",
    "fig.set(xlabel='Total count of presense', ylabel='Name of constituency')\n",
    "fig;"
   ]
  },
  {
   "cell_type": "markdown",
   "id": "fcdf755d",
   "metadata": {
    "papermill": {
     "duration": 0.048539,
     "end_time": "2022-07-16T06:50:37.271275",
     "exception": false,
     "start_time": "2022-07-16T06:50:37.222736",
     "status": "completed"
    },
    "tags": [],
    "pycharm": {
     "name": "#%% md\n"
    }
   },
   "source": [
    "**Thanks**\n"
   ]
  }
 ],
 "metadata": {
  "kernelspec": {
   "display_name": "Python 3",
   "language": "python",
   "name": "python3"
  },
  "language_info": {
   "codemirror_mode": {
    "name": "ipython",
    "version": 3
   },
   "file_extension": ".py",
   "mimetype": "text/x-python",
   "name": "python",
   "nbconvert_exporter": "python",
   "pygments_lexer": "ipython3",
   "version": "3.7.12"
  },
  "papermill": {
   "default_parameters": {},
   "duration": 86.781311,
   "end_time": "2022-07-16T06:50:38.237520",
   "environment_variables": {},
   "exception": null,
   "input_path": "__notebook__.ipynb",
   "output_path": "__notebook__.ipynb",
   "parameters": {},
   "start_time": "2022-07-16T06:49:11.456209",
   "version": "2.3.4"
  }
 },
 "nbformat": 4,
 "nbformat_minor": 5
}