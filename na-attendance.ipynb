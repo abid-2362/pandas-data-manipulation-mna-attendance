{
 "cells": [
  {
   "cell_type": "code",
   "execution_count": 1,
   "outputs": [],
   "source": [
    "import pandas as pd\n"
   ],
   "metadata": {
    "collapsed": false,
    "pycharm": {
     "name": "#%%\n"
    }
   }
  },
  {
   "cell_type": "code",
   "execution_count": 8,
   "outputs": [],
   "source": [
    "session1 = pd.read_excel('data/Attendence of Members - Sessions 1 - 20.xls', skiprows=4)\n",
    "session2 = pd.read_excel('data/Attendence of Members - Sessions 21 - 43.xls', skiprows=4)\n"
   ],
   "metadata": {
    "collapsed": false,
    "pycharm": {
     "name": "#%%\n"
    }
   }
  },
  {
   "cell_type": "code",
   "execution_count": 9,
   "outputs": [
    {
     "data": {
      "text/plain": "  Sl. No. Constituency                Name of Member Status\n0       1         NA-1  Moulana Abdul Akbar Chitrali      P\n1       2         NA-2           Dr. Haider Ali Khan      P\n2       3         NA-3            Mr. Saleem  Rehman      P\n3       4         NA-4               Mr. Murad Saeed      P\n4       5         NA-5        Sahibzada Sibghatullah      P",
      "text/html": "<div>\n<style scoped>\n    .dataframe tbody tr th:only-of-type {\n        vertical-align: middle;\n    }\n\n    .dataframe tbody tr th {\n        vertical-align: top;\n    }\n\n    .dataframe thead th {\n        text-align: right;\n    }\n</style>\n<table border=\"1\" class=\"dataframe\">\n  <thead>\n    <tr style=\"text-align: right;\">\n      <th></th>\n      <th>Sl. No.</th>\n      <th>Constituency</th>\n      <th>Name of Member</th>\n      <th>Status</th>\n    </tr>\n  </thead>\n  <tbody>\n    <tr>\n      <th>0</th>\n      <td>1</td>\n      <td>NA-1</td>\n      <td>Moulana Abdul Akbar Chitrali</td>\n      <td>P</td>\n    </tr>\n    <tr>\n      <th>1</th>\n      <td>2</td>\n      <td>NA-2</td>\n      <td>Dr. Haider Ali Khan</td>\n      <td>P</td>\n    </tr>\n    <tr>\n      <th>2</th>\n      <td>3</td>\n      <td>NA-3</td>\n      <td>Mr. Saleem  Rehman</td>\n      <td>P</td>\n    </tr>\n    <tr>\n      <th>3</th>\n      <td>4</td>\n      <td>NA-4</td>\n      <td>Mr. Murad Saeed</td>\n      <td>P</td>\n    </tr>\n    <tr>\n      <th>4</th>\n      <td>5</td>\n      <td>NA-5</td>\n      <td>Sahibzada Sibghatullah</td>\n      <td>P</td>\n    </tr>\n  </tbody>\n</table>\n</div>"
     },
     "execution_count": 9,
     "metadata": {},
     "output_type": "execute_result"
    }
   ],
   "source": [
    "session1.head()"
   ],
   "metadata": {
    "collapsed": false,
    "pycharm": {
     "name": "#%%\n"
    }
   }
  },
  {
   "cell_type": "code",
   "execution_count": 10,
   "outputs": [
    {
     "data": {
      "text/plain": "  Sl. No. Constituency                Name of Member Status\n0       1         NA-1  Moulana Abdul Akbar Chitrali      P\n1       2         NA-2           Dr. Haider Ali Khan      P\n2       3         NA-3            Mr. Saleem  Rehman      P\n3       4         NA-4               Mr. Murad Saeed      P\n4       5         NA-5        Sahibzada Sibghatullah      P",
      "text/html": "<div>\n<style scoped>\n    .dataframe tbody tr th:only-of-type {\n        vertical-align: middle;\n    }\n\n    .dataframe tbody tr th {\n        vertical-align: top;\n    }\n\n    .dataframe thead th {\n        text-align: right;\n    }\n</style>\n<table border=\"1\" class=\"dataframe\">\n  <thead>\n    <tr style=\"text-align: right;\">\n      <th></th>\n      <th>Sl. No.</th>\n      <th>Constituency</th>\n      <th>Name of Member</th>\n      <th>Status</th>\n    </tr>\n  </thead>\n  <tbody>\n    <tr>\n      <th>0</th>\n      <td>1</td>\n      <td>NA-1</td>\n      <td>Moulana Abdul Akbar Chitrali</td>\n      <td>P</td>\n    </tr>\n    <tr>\n      <th>1</th>\n      <td>2</td>\n      <td>NA-2</td>\n      <td>Dr. Haider Ali Khan</td>\n      <td>P</td>\n    </tr>\n    <tr>\n      <th>2</th>\n      <td>3</td>\n      <td>NA-3</td>\n      <td>Mr. Saleem  Rehman</td>\n      <td>P</td>\n    </tr>\n    <tr>\n      <th>3</th>\n      <td>4</td>\n      <td>NA-4</td>\n      <td>Mr. Murad Saeed</td>\n      <td>P</td>\n    </tr>\n    <tr>\n      <th>4</th>\n      <td>5</td>\n      <td>NA-5</td>\n      <td>Sahibzada Sibghatullah</td>\n      <td>P</td>\n    </tr>\n  </tbody>\n</table>\n</div>"
     },
     "execution_count": 10,
     "metadata": {},
     "output_type": "execute_result"
    }
   ],
   "source": [
    "session2.head()\n"
   ],
   "metadata": {
    "collapsed": false,
    "pycharm": {
     "name": "#%%\n"
    }
   }
  },
  {
   "cell_type": "code",
   "execution_count": 11,
   "outputs": [
    {
     "data": {
      "text/plain": "(37243, 4)"
     },
     "execution_count": 11,
     "metadata": {},
     "output_type": "execute_result"
    }
   ],
   "source": [
    "session1.shape\n"
   ],
   "metadata": {
    "collapsed": false,
    "pycharm": {
     "name": "#%%\n"
    }
   }
  },
  {
   "cell_type": "code",
   "execution_count": 15,
   "outputs": [
    {
     "data": {
      "text/plain": "                Sl. No.  Name of Member  Status\nConstituency                                   \nConsituancy           1               1       0\nConstituency        148             148     148\nNA-1                145             145     144\nNA-10                86              86      85\nNA-100              105             105     104\n...                 ...             ...     ...\nReserve seat         58              58      58\nReserved Seat      7713            7713    7713\nReserved Seate       64              64      64\nReserved Seats      198             198     130\nReserved seat        58              58      58\n\n[347 rows x 3 columns]",
      "text/html": "<div>\n<style scoped>\n    .dataframe tbody tr th:only-of-type {\n        vertical-align: middle;\n    }\n\n    .dataframe tbody tr th {\n        vertical-align: top;\n    }\n\n    .dataframe thead th {\n        text-align: right;\n    }\n</style>\n<table border=\"1\" class=\"dataframe\">\n  <thead>\n    <tr style=\"text-align: right;\">\n      <th></th>\n      <th>Sl. No.</th>\n      <th>Name of Member</th>\n      <th>Status</th>\n    </tr>\n    <tr>\n      <th>Constituency</th>\n      <th></th>\n      <th></th>\n      <th></th>\n    </tr>\n  </thead>\n  <tbody>\n    <tr>\n      <th>Consituancy</th>\n      <td>1</td>\n      <td>1</td>\n      <td>0</td>\n    </tr>\n    <tr>\n      <th>Constituency</th>\n      <td>148</td>\n      <td>148</td>\n      <td>148</td>\n    </tr>\n    <tr>\n      <th>NA-1</th>\n      <td>145</td>\n      <td>145</td>\n      <td>144</td>\n    </tr>\n    <tr>\n      <th>NA-10</th>\n      <td>86</td>\n      <td>86</td>\n      <td>85</td>\n    </tr>\n    <tr>\n      <th>NA-100</th>\n      <td>105</td>\n      <td>105</td>\n      <td>104</td>\n    </tr>\n    <tr>\n      <th>...</th>\n      <td>...</td>\n      <td>...</td>\n      <td>...</td>\n    </tr>\n    <tr>\n      <th>Reserve seat</th>\n      <td>58</td>\n      <td>58</td>\n      <td>58</td>\n    </tr>\n    <tr>\n      <th>Reserved Seat</th>\n      <td>7713</td>\n      <td>7713</td>\n      <td>7713</td>\n    </tr>\n    <tr>\n      <th>Reserved Seate</th>\n      <td>64</td>\n      <td>64</td>\n      <td>64</td>\n    </tr>\n    <tr>\n      <th>Reserved Seats</th>\n      <td>198</td>\n      <td>198</td>\n      <td>130</td>\n    </tr>\n    <tr>\n      <th>Reserved seat</th>\n      <td>58</td>\n      <td>58</td>\n      <td>58</td>\n    </tr>\n  </tbody>\n</table>\n<p>347 rows × 3 columns</p>\n</div>"
     },
     "execution_count": 15,
     "metadata": {},
     "output_type": "execute_result"
    }
   ],
   "source": [
    "session1.groupby('Constituency').count()"
   ],
   "metadata": {
    "collapsed": false,
    "pycharm": {
     "name": "#%%\n"
    }
   }
  },
  {
   "cell_type": "code",
   "execution_count": 17,
   "outputs": [
    {
     "data": {
      "text/plain": "Int64Index([300], dtype='int64')"
     },
     "execution_count": 17,
     "metadata": {},
     "output_type": "execute_result"
    }
   ],
   "source": [
    "session1.loc[session1.Constituency == 'Consituancy'].index\n"
   ],
   "metadata": {
    "collapsed": false,
    "pycharm": {
     "name": "#%%\n"
    }
   }
  },
  {
   "cell_type": "code",
   "execution_count": 18,
   "outputs": [],
   "source": [
    "session1['Constituency'].iloc[300] = 'Constituency'\n"
   ],
   "metadata": {
    "collapsed": false,
    "pycharm": {
     "name": "#%%\n"
    }
   }
  },
  {
   "cell_type": "code",
   "execution_count": 20,
   "outputs": [
    {
     "data": {
      "text/plain": "Sl. No.                  S.l #\nConstituency      Constituency\nName of Member            Name\nStatus                     NaN\nName: 300, dtype: object"
     },
     "execution_count": 20,
     "metadata": {},
     "output_type": "execute_result"
    }
   ],
   "source": [
    "session1.iloc[300]"
   ],
   "metadata": {
    "collapsed": false,
    "pycharm": {
     "name": "#%%\n"
    }
   }
  },
  {
   "cell_type": "code",
   "execution_count": 21,
   "outputs": [
    {
     "data": {
      "text/plain": "                Sl. No.  Name of Member  Status\nConstituency                                   \nConstituency        149             149     148\nNA-1                145             145     144\nNA-10                86              86      85\nNA-100              105             105     104\nNA-101               22              22      21\n...                 ...             ...     ...\nReserve seat         58              58      58\nReserved Seat      7713            7713    7713\nReserved Seate       64              64      64\nReserved Seats      198             198     130\nReserved seat        58              58      58\n\n[346 rows x 3 columns]",
      "text/html": "<div>\n<style scoped>\n    .dataframe tbody tr th:only-of-type {\n        vertical-align: middle;\n    }\n\n    .dataframe tbody tr th {\n        vertical-align: top;\n    }\n\n    .dataframe thead th {\n        text-align: right;\n    }\n</style>\n<table border=\"1\" class=\"dataframe\">\n  <thead>\n    <tr style=\"text-align: right;\">\n      <th></th>\n      <th>Sl. No.</th>\n      <th>Name of Member</th>\n      <th>Status</th>\n    </tr>\n    <tr>\n      <th>Constituency</th>\n      <th></th>\n      <th></th>\n      <th></th>\n    </tr>\n  </thead>\n  <tbody>\n    <tr>\n      <th>Constituency</th>\n      <td>149</td>\n      <td>149</td>\n      <td>148</td>\n    </tr>\n    <tr>\n      <th>NA-1</th>\n      <td>145</td>\n      <td>145</td>\n      <td>144</td>\n    </tr>\n    <tr>\n      <th>NA-10</th>\n      <td>86</td>\n      <td>86</td>\n      <td>85</td>\n    </tr>\n    <tr>\n      <th>NA-100</th>\n      <td>105</td>\n      <td>105</td>\n      <td>104</td>\n    </tr>\n    <tr>\n      <th>NA-101</th>\n      <td>22</td>\n      <td>22</td>\n      <td>21</td>\n    </tr>\n    <tr>\n      <th>...</th>\n      <td>...</td>\n      <td>...</td>\n      <td>...</td>\n    </tr>\n    <tr>\n      <th>Reserve seat</th>\n      <td>58</td>\n      <td>58</td>\n      <td>58</td>\n    </tr>\n    <tr>\n      <th>Reserved Seat</th>\n      <td>7713</td>\n      <td>7713</td>\n      <td>7713</td>\n    </tr>\n    <tr>\n      <th>Reserved Seate</th>\n      <td>64</td>\n      <td>64</td>\n      <td>64</td>\n    </tr>\n    <tr>\n      <th>Reserved Seats</th>\n      <td>198</td>\n      <td>198</td>\n      <td>130</td>\n    </tr>\n    <tr>\n      <th>Reserved seat</th>\n      <td>58</td>\n      <td>58</td>\n      <td>58</td>\n    </tr>\n  </tbody>\n</table>\n<p>346 rows × 3 columns</p>\n</div>"
     },
     "execution_count": 21,
     "metadata": {},
     "output_type": "execute_result"
    }
   ],
   "source": [
    "session1.groupby('Constituency').count()\n"
   ],
   "metadata": {
    "collapsed": false,
    "pycharm": {
     "name": "#%%\n"
    }
   }
  },
  {
   "cell_type": "code",
   "execution_count": 24,
   "outputs": [],
   "source": [
    "na_records = pd.read_excel('data/NA-Records.xlsx', skiprows=3)"
   ],
   "metadata": {
    "collapsed": false,
    "pycharm": {
     "name": "#%%\n"
    }
   }
  },
  {
   "cell_type": "code",
   "execution_count": 27,
   "outputs": [
    {
     "data": {
      "text/plain": "               Division        District Provincial Assembly Constituency  \\\n0    Khyber Pakhtunkhwa             NaN                              NaN   \n1              Malakand   Upper Chitral               PK-1 Upper Chitral   \n2                   NaN   Lower Chitral               PK-2 Lower Chitral   \n3                   NaN            Swat                      PK-3 Swat-I   \n4                   NaN             NaN                     PK-4 Swat-II   \n..                  ...             ...                              ...   \n601                 NaN             NaN                  PB-47 Pishin-II   \n602                 NaN             NaN                 PB-48 Pishin-III   \n603                 NaN  Killa Abdullah             PB-49 Killa Abdullah   \n604                 NaN          Chaman                   PB-50 Chaman-I   \n605                 NaN             NaN                  PB-51 Chaman-II   \n\n         National Assembly Constituency  \n0                                   NaN  \n1                          NA-1 Chitral  \n2                                   NaN  \n3                           NA-2 Swat-I  \n4                                   NaN  \n..                                  ...  \n601                                 NaN  \n602                                 NaN  \n603  NA-266 (Killa Abdullah-cum-Chaman)  \n604                                 NaN  \n605                                 NaN  \n\n[606 rows x 4 columns]",
      "text/html": "<div>\n<style scoped>\n    .dataframe tbody tr th:only-of-type {\n        vertical-align: middle;\n    }\n\n    .dataframe tbody tr th {\n        vertical-align: top;\n    }\n\n    .dataframe thead th {\n        text-align: right;\n    }\n</style>\n<table border=\"1\" class=\"dataframe\">\n  <thead>\n    <tr style=\"text-align: right;\">\n      <th></th>\n      <th>Division</th>\n      <th>District</th>\n      <th>Provincial Assembly Constituency</th>\n      <th>National Assembly Constituency</th>\n    </tr>\n  </thead>\n  <tbody>\n    <tr>\n      <th>0</th>\n      <td>Khyber Pakhtunkhwa</td>\n      <td>NaN</td>\n      <td>NaN</td>\n      <td>NaN</td>\n    </tr>\n    <tr>\n      <th>1</th>\n      <td>Malakand</td>\n      <td>Upper Chitral</td>\n      <td>PK-1 Upper Chitral</td>\n      <td>NA-1 Chitral</td>\n    </tr>\n    <tr>\n      <th>2</th>\n      <td>NaN</td>\n      <td>Lower Chitral</td>\n      <td>PK-2 Lower Chitral</td>\n      <td>NaN</td>\n    </tr>\n    <tr>\n      <th>3</th>\n      <td>NaN</td>\n      <td>Swat</td>\n      <td>PK-3 Swat-I</td>\n      <td>NA-2 Swat-I</td>\n    </tr>\n    <tr>\n      <th>4</th>\n      <td>NaN</td>\n      <td>NaN</td>\n      <td>PK-4 Swat-II</td>\n      <td>NaN</td>\n    </tr>\n    <tr>\n      <th>...</th>\n      <td>...</td>\n      <td>...</td>\n      <td>...</td>\n      <td>...</td>\n    </tr>\n    <tr>\n      <th>601</th>\n      <td>NaN</td>\n      <td>NaN</td>\n      <td>PB-47 Pishin-II</td>\n      <td>NaN</td>\n    </tr>\n    <tr>\n      <th>602</th>\n      <td>NaN</td>\n      <td>NaN</td>\n      <td>PB-48 Pishin-III</td>\n      <td>NaN</td>\n    </tr>\n    <tr>\n      <th>603</th>\n      <td>NaN</td>\n      <td>Killa Abdullah</td>\n      <td>PB-49 Killa Abdullah</td>\n      <td>NA-266 (Killa Abdullah-cum-Chaman)</td>\n    </tr>\n    <tr>\n      <th>604</th>\n      <td>NaN</td>\n      <td>Chaman</td>\n      <td>PB-50 Chaman-I</td>\n      <td>NaN</td>\n    </tr>\n    <tr>\n      <th>605</th>\n      <td>NaN</td>\n      <td>NaN</td>\n      <td>PB-51 Chaman-II</td>\n      <td>NaN</td>\n    </tr>\n  </tbody>\n</table>\n<p>606 rows × 4 columns</p>\n</div>"
     },
     "execution_count": 27,
     "metadata": {},
     "output_type": "execute_result"
    }
   ],
   "source": [
    "na_records\n"
   ],
   "metadata": {
    "collapsed": false,
    "pycharm": {
     "name": "#%%\n"
    }
   }
  },
  {
   "cell_type": "code",
   "execution_count": 29,
   "outputs": [
    {
     "data": {
      "text/plain": "Index(['Division', 'District', 'Provincial Assembly Constituency',\n       'National Assembly Constituency'],\n      dtype='object')"
     },
     "execution_count": 29,
     "metadata": {},
     "output_type": "execute_result"
    }
   ],
   "source": [
    "na_records.columns\n"
   ],
   "metadata": {
    "collapsed": false,
    "pycharm": {
     "name": "#%%\n"
    }
   }
  },
  {
   "cell_type": "code",
   "execution_count": 30,
   "outputs": [],
   "source": [
    "na_records.columns = ['division', 'district', 'pac', 'nac']\n"
   ],
   "metadata": {
    "collapsed": false,
    "pycharm": {
     "name": "#%%\n"
    }
   }
  },
  {
   "cell_type": "code",
   "execution_count": 31,
   "outputs": [
    {
     "data": {
      "text/plain": "             division       district                 pac           nac\n0  Khyber Pakhtunkhwa            NaN                 NaN           NaN\n1            Malakand  Upper Chitral  PK-1 Upper Chitral  NA-1 Chitral\n2                 NaN  Lower Chitral  PK-2 Lower Chitral           NaN\n3                 NaN           Swat         PK-3 Swat-I   NA-2 Swat-I\n4                 NaN            NaN        PK-4 Swat-II           NaN",
      "text/html": "<div>\n<style scoped>\n    .dataframe tbody tr th:only-of-type {\n        vertical-align: middle;\n    }\n\n    .dataframe tbody tr th {\n        vertical-align: top;\n    }\n\n    .dataframe thead th {\n        text-align: right;\n    }\n</style>\n<table border=\"1\" class=\"dataframe\">\n  <thead>\n    <tr style=\"text-align: right;\">\n      <th></th>\n      <th>division</th>\n      <th>district</th>\n      <th>pac</th>\n      <th>nac</th>\n    </tr>\n  </thead>\n  <tbody>\n    <tr>\n      <th>0</th>\n      <td>Khyber Pakhtunkhwa</td>\n      <td>NaN</td>\n      <td>NaN</td>\n      <td>NaN</td>\n    </tr>\n    <tr>\n      <th>1</th>\n      <td>Malakand</td>\n      <td>Upper Chitral</td>\n      <td>PK-1 Upper Chitral</td>\n      <td>NA-1 Chitral</td>\n    </tr>\n    <tr>\n      <th>2</th>\n      <td>NaN</td>\n      <td>Lower Chitral</td>\n      <td>PK-2 Lower Chitral</td>\n      <td>NaN</td>\n    </tr>\n    <tr>\n      <th>3</th>\n      <td>NaN</td>\n      <td>Swat</td>\n      <td>PK-3 Swat-I</td>\n      <td>NA-2 Swat-I</td>\n    </tr>\n    <tr>\n      <th>4</th>\n      <td>NaN</td>\n      <td>NaN</td>\n      <td>PK-4 Swat-II</td>\n      <td>NaN</td>\n    </tr>\n  </tbody>\n</table>\n</div>"
     },
     "execution_count": 31,
     "metadata": {},
     "output_type": "execute_result"
    }
   ],
   "source": [
    "na_records.head()\n"
   ],
   "metadata": {
    "collapsed": false,
    "pycharm": {
     "name": "#%%\n"
    }
   }
  },
  {
   "cell_type": "code",
   "execution_count": 45,
   "outputs": [],
   "source": [
    "na_records.dropna(subset=['nac'], inplace=True)\n"
   ],
   "metadata": {
    "collapsed": false,
    "pycharm": {
     "name": "#%%\n"
    }
   }
  },
  {
   "cell_type": "code",
   "execution_count": 48,
   "outputs": [
    {
     "data": {
      "text/plain": "   index  division       district                  pac             nac\n0      1  Malakand  Upper Chitral   PK-1 Upper Chitral    NA-1 Chitral\n1      3       NaN           Swat          PK-3 Swat-I     NA-2 Swat-I\n2      5       NaN            NaN        PK-5 Swat-III    NA-3 Swat-II\n3      7       NaN            NaN          PK-7 Swat-V   NA-4 Swat-III\n4     10       NaN      Upper Dir  PK-10 (Upper Dir-I)  NA-5 Upper Dir",
      "text/html": "<div>\n<style scoped>\n    .dataframe tbody tr th:only-of-type {\n        vertical-align: middle;\n    }\n\n    .dataframe tbody tr th {\n        vertical-align: top;\n    }\n\n    .dataframe thead th {\n        text-align: right;\n    }\n</style>\n<table border=\"1\" class=\"dataframe\">\n  <thead>\n    <tr style=\"text-align: right;\">\n      <th></th>\n      <th>index</th>\n      <th>division</th>\n      <th>district</th>\n      <th>pac</th>\n      <th>nac</th>\n    </tr>\n  </thead>\n  <tbody>\n    <tr>\n      <th>0</th>\n      <td>1</td>\n      <td>Malakand</td>\n      <td>Upper Chitral</td>\n      <td>PK-1 Upper Chitral</td>\n      <td>NA-1 Chitral</td>\n    </tr>\n    <tr>\n      <th>1</th>\n      <td>3</td>\n      <td>NaN</td>\n      <td>Swat</td>\n      <td>PK-3 Swat-I</td>\n      <td>NA-2 Swat-I</td>\n    </tr>\n    <tr>\n      <th>2</th>\n      <td>5</td>\n      <td>NaN</td>\n      <td>NaN</td>\n      <td>PK-5 Swat-III</td>\n      <td>NA-3 Swat-II</td>\n    </tr>\n    <tr>\n      <th>3</th>\n      <td>7</td>\n      <td>NaN</td>\n      <td>NaN</td>\n      <td>PK-7 Swat-V</td>\n      <td>NA-4 Swat-III</td>\n    </tr>\n    <tr>\n      <th>4</th>\n      <td>10</td>\n      <td>NaN</td>\n      <td>Upper Dir</td>\n      <td>PK-10 (Upper Dir-I)</td>\n      <td>NA-5 Upper Dir</td>\n    </tr>\n  </tbody>\n</table>\n</div>"
     },
     "execution_count": 48,
     "metadata": {},
     "output_type": "execute_result"
    }
   ],
   "source": [
    "na_records.reset_index(inplace=True)\n",
    "na_records.head()"
   ],
   "metadata": {
    "collapsed": false,
    "pycharm": {
     "name": "#%%\n"
    }
   }
  },
  {
   "cell_type": "code",
   "execution_count": 54,
   "outputs": [],
   "source": [
    "# na_records['const'] = na_records['nac'].str.extract(r'(NA-\\d+) ')[0]\n"
   ],
   "metadata": {
    "collapsed": false,
    "pycharm": {
     "name": "#%%\n"
    }
   }
  },
  {
   "cell_type": "code",
   "execution_count": 56,
   "outputs": [],
   "source": [],
   "metadata": {
    "collapsed": false,
    "pycharm": {
     "name": "#%%\n"
    }
   }
  },
  {
   "cell_type": "code",
   "execution_count": 58,
   "outputs": [],
   "source": [
    "easy_cols = na_records.columns\n"
   ],
   "metadata": {
    "collapsed": false,
    "pycharm": {
     "name": "#%%\n"
    }
   }
  },
  {
   "cell_type": "code",
   "execution_count": 59,
   "outputs": [],
   "source": [
    "df_columns = ['index', 'Division', 'District', 'Provincial Assembly Constituency', 'National Assembly Constituency', 'Constituency']\n",
    "na_records.columns = df_columns\n"
   ],
   "metadata": {
    "collapsed": false,
    "pycharm": {
     "name": "#%%\n"
    }
   }
  },
  {
   "cell_type": "code",
   "execution_count": 61,
   "outputs": [],
   "source": [
    "na_records.to_csv('data/modified/National Assembly.csv', index=False)\n"
   ],
   "metadata": {
    "collapsed": false,
    "pycharm": {
     "name": "#%%\n"
    }
   }
  },
  {
   "cell_type": "code",
   "execution_count": 62,
   "outputs": [
    {
     "data": {
      "text/plain": "   index  Division       District Provincial Assembly Constituency  \\\n0      1  Malakand  Upper Chitral               PK-1 Upper Chitral   \n1      3       NaN           Swat                      PK-3 Swat-I   \n2      5       NaN            NaN                    PK-5 Swat-III   \n3      7       NaN            NaN                      PK-7 Swat-V   \n4     10       NaN      Upper Dir              PK-10 (Upper Dir-I)   \n\n  National Assembly Constituency Constituency  \n0                   NA-1 Chitral         NA-1  \n1                    NA-2 Swat-I         NA-2  \n2                   NA-3 Swat-II         NA-3  \n3                  NA-4 Swat-III         NA-4  \n4                 NA-5 Upper Dir         NA-5  ",
      "text/html": "<div>\n<style scoped>\n    .dataframe tbody tr th:only-of-type {\n        vertical-align: middle;\n    }\n\n    .dataframe tbody tr th {\n        vertical-align: top;\n    }\n\n    .dataframe thead th {\n        text-align: right;\n    }\n</style>\n<table border=\"1\" class=\"dataframe\">\n  <thead>\n    <tr style=\"text-align: right;\">\n      <th></th>\n      <th>index</th>\n      <th>Division</th>\n      <th>District</th>\n      <th>Provincial Assembly Constituency</th>\n      <th>National Assembly Constituency</th>\n      <th>Constituency</th>\n    </tr>\n  </thead>\n  <tbody>\n    <tr>\n      <th>0</th>\n      <td>1</td>\n      <td>Malakand</td>\n      <td>Upper Chitral</td>\n      <td>PK-1 Upper Chitral</td>\n      <td>NA-1 Chitral</td>\n      <td>NA-1</td>\n    </tr>\n    <tr>\n      <th>1</th>\n      <td>3</td>\n      <td>NaN</td>\n      <td>Swat</td>\n      <td>PK-3 Swat-I</td>\n      <td>NA-2 Swat-I</td>\n      <td>NA-2</td>\n    </tr>\n    <tr>\n      <th>2</th>\n      <td>5</td>\n      <td>NaN</td>\n      <td>NaN</td>\n      <td>PK-5 Swat-III</td>\n      <td>NA-3 Swat-II</td>\n      <td>NA-3</td>\n    </tr>\n    <tr>\n      <th>3</th>\n      <td>7</td>\n      <td>NaN</td>\n      <td>NaN</td>\n      <td>PK-7 Swat-V</td>\n      <td>NA-4 Swat-III</td>\n      <td>NA-4</td>\n    </tr>\n    <tr>\n      <th>4</th>\n      <td>10</td>\n      <td>NaN</td>\n      <td>Upper Dir</td>\n      <td>PK-10 (Upper Dir-I)</td>\n      <td>NA-5 Upper Dir</td>\n      <td>NA-5</td>\n    </tr>\n  </tbody>\n</table>\n</div>"
     },
     "execution_count": 62,
     "metadata": {},
     "output_type": "execute_result"
    }
   ],
   "source": [
    "na_records.head()\n"
   ],
   "metadata": {
    "collapsed": false,
    "pycharm": {
     "name": "#%%\n"
    }
   }
  },
  {
   "cell_type": "code",
   "execution_count": null,
   "outputs": [],
   "source": [],
   "metadata": {
    "collapsed": false,
    "pycharm": {
     "name": "#%%\n"
    }
   }
  }
 ],
 "metadata": {
  "kernelspec": {
   "display_name": "Python 3",
   "language": "python",
   "name": "python3"
  },
  "language_info": {
   "codemirror_mode": {
    "name": "ipython",
    "version": 2
   },
   "file_extension": ".py",
   "mimetype": "text/x-python",
   "name": "python",
   "nbconvert_exporter": "python",
   "pygments_lexer": "ipython2",
   "version": "2.7.6"
  }
 },
 "nbformat": 4,
 "nbformat_minor": 0
}